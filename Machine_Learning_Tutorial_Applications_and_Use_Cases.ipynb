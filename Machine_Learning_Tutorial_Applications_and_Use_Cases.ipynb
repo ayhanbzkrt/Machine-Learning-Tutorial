{
  "nbformat": 4,
  "nbformat_minor": 0,
  "metadata": {
    "colab": {
      "provenance": [],
      "authorship_tag": "ABX9TyMmX134eN6BbW7ocFFL99sq",
      "include_colab_link": true
    },
    "kernelspec": {
      "name": "python3",
      "display_name": "Python 3"
    },
    "language_info": {
      "name": "python"
    }
  },
  "cells": [
    {
      "cell_type": "markdown",
      "metadata": {
        "id": "view-in-github",
        "colab_type": "text"
      },
      "source": [
        "<a href=\"https://colab.research.google.com/github/ayhanbzkrt/Machine-Learning-Tutorial/blob/main/Machine_Learning_Tutorial_Applications_and_Use_Cases.ipynb\" target=\"_parent\"><img src=\"https://colab.research.google.com/assets/colab-badge.svg\" alt=\"Open In Colab\"/></a>"
      ]
    },
    {
      "cell_type": "markdown",
      "source": [
        "# In this comprehensive tutorial, we journeyed through the fascinating realm of Machine Learning (ML). Beginning with the foundational concepts, we progressed to delve into the nuances of ML models, optimization techniques, neural networks, and the transformative power of deep learning. By employing hands-on examples and leveraging popular tools and libraries like scikit-learn, TensorFlow, Keras, and PyTorch, the tutorial offers an immersive learning experience. Whether you're a novice seeking a gentle introduction or a practitioner looking to refresh fundamental concepts, this guide serves as a beacon, illuminating the intricate pathways of ML. Join us as we decode the magic behind algorithms, unravel the essence of data-driven decisions, and demystify the art and science of Machine Learning.\n",
        "\n",
        "[Ayhan Bozkurt](https://www.linkedin.com/in/ayhanbozkurt/)\n",
        "\n",
        "github: https://github.com/ayhanbzkrt"
      ],
      "metadata": {
        "id": "zBg4iPQtzYDH"
      }
    },
    {
      "cell_type": "markdown",
      "source": [
        "\n",
        "# Introduction to Machine Learning\n",
        "Definition\n",
        "Applications and Use Cases\n",
        "Types of ML: Supervised, Unsupervised, Reinforcement\n",
        "Understanding Data\n",
        "\n",
        "# Importance of Data in ML\n",
        "Data Collection and Cleaning\n",
        "Data Splitting: Training, Validation, and Test Sets\n",
        "Supervised Learning\n",
        "\n",
        "# Definition and Examples\n",
        "Regression\n",
        "Linear Regression\n",
        "Polynomial Regression\n",
        "Classification\n",
        "Logistic Regression\n",
        "Decision Trees\n",
        "Random Forests\n",
        "Support Vector Machines\n",
        "Unsupervised Learning\n",
        "\n",
        "**Definition and Examples**\n",
        "Clustering\n",
        "K-Means Clustering\n",
        "Hierarchical Clustering\n",
        "Dimensionality Reduction\n",
        "Principal Component Analysis (PCA)\n",
        "Reinforcement Learning (Brief Overview)\n",
        "\n",
        "**Definition and Examples**\n",
        "Components: Agent, Environment, Actions, States, Rewards\n",
        "Evaluating ML Models\n",
        "\n",
        "**Loss Functions**\n",
        "Accuracy, Precision, Recall, F1-score\n",
        "Overfitting and Underfitting\n",
        "Cross-Validation\n",
        "Optimizing ML Models\n",
        "\n",
        "**Gradient Descent**\n",
        "Hyperparameter Tuning\n",
        "Regularization\n",
        "Neural Networks and Deep Learning (Brief Overview)\n",
        "\n",
        "# Introduction to Neural Networks\n",
        "Activation Functions\n",
        "Deep Learning and Convolutional Neural Networks (CNN)\n",
        "Tools and Libraries\n",
        "\n",
        "**Introduction to Python for ML**\n",
        "\n",
        "Libraries: scikit-learn, TensorFlow, Keras\n",
        "Example: Building a Simple Model using scikit-learn\n",
        "Conclusion and Future Trends"
      ],
      "metadata": {
        "id": "CE183_jKOVXQ"
      }
    },
    {
      "cell_type": "markdown",
      "source": [
        "#1-  Introduction to Machine Learning\n",
        "\n",
        "**Definition**\n",
        "\n",
        "Machine Learning (ML) is a subfield of artificial intelligence (AI) that allows computers to learn from data, improve from experience, and make predictions or decisions without being explicitly programmed for the specific task. In simpler terms, instead of giving a computer a set of instructions to perform a task, you provide it data and let it learn patterns from this data.\n",
        "\n",
        "**Applications and Use Cases**\n",
        "\n",
        "Machine Learning has a wide range of applications across various industries. Here are some examples:\n",
        "\n",
        "**E-commerce:** Product recommendation based on user behavior.\n",
        "\n",
        "**Finance:** Fraud detection using transaction data.\n",
        "\n",
        "**Healthcare**: Disease prediction using patient's medical records.\n",
        "\n",
        "**Automotive**: Self-driving cars learning from vast amounts of driving data.\n",
        "\n",
        "**Entertainment**: Movie or song recommendations in platforms like Netflix or Spotify.\n",
        "\n"
      ],
      "metadata": {
        "id": "WyScyI7dPGik"
      }
    },
    {
      "cell_type": "markdown",
      "source": [
        "# Types of ML: Supervised, Unsupervised, Reinforcement\n",
        "\n",
        "**Supervised Learning:**\n",
        "\n",
        "This is where we provide the algorithm with labeled data. The 'label' is the answer we want the algorithm to come up with on its own. Think of it as teaching a child with examples. Most common tasks under this type are classification and regression.\n",
        "\n"
      ],
      "metadata": {
        "id": "J1k4sy26PwFh"
      }
    },
    {
      "cell_type": "code",
      "execution_count": 1,
      "metadata": {
        "id": "sthkQX_ILxXo"
      },
      "outputs": [],
      "source": [
        "# For instance, let's consider a simple dataset of house prices:\n",
        "# Square Feet (Input or Feature) | Price (Output or Label)\n",
        "# 1000                           | $100,000\n",
        "# 1500                           | $150,000\n",
        "# ...                            | ...\n",
        "\n",
        "# In supervised learning, the model would learn the relationship between square feet and price.\n"
      ]
    },
    {
      "cell_type": "markdown",
      "source": [
        "To demonstrate this with a simple Python example using the popular scikit-learn library:\n",
        "\n",
        "First, let's consider a very small dataset:"
      ],
      "metadata": {
        "id": "ghWxRJqNQLRI"
      }
    },
    {
      "cell_type": "code",
      "source": [
        "import numpy as np\n",
        "from sklearn.linear_model import LinearRegression\n",
        "import matplotlib.pyplot as plt\n",
        "\n",
        "# Sample dataset\n",
        "square_feet = np.array([1000, 1500, 2000, 2500, 3000]).reshape(-1, 1)\n",
        "price = np.array([100000, 150000, 210000, 260000, 300000])\n",
        "\n",
        "# Training a linear regression model\n",
        "model = LinearRegression().fit(square_feet, price)\n",
        "\n",
        "# Making predictions\n",
        "predicted_price = model.predict(square_feet)\n",
        "\n",
        "# Plotting the data and the linear regression model's predictions\n",
        "plt.scatter(square_feet, price, color='blue', label='Actual Prices')\n",
        "plt.plot(square_feet, predicted_price, color='red', label='Predicted Prices')\n",
        "plt.title('House Prices based on Square Footage')\n",
        "plt.xlabel('Square Feet')\n",
        "plt.ylabel('Price ($)')\n",
        "plt.legend()\n",
        "plt.grid(True)\n",
        "plt.show()\n"
      ],
      "metadata": {
        "colab": {
          "base_uri": "https://localhost:8080/",
          "height": 472
        },
        "id": "MyGzYZt6QPLC",
        "outputId": "250734c2-237d-4da8-abf6-c4697d216755"
      },
      "execution_count": 2,
      "outputs": [
        {
          "output_type": "display_data",
          "data": {
            "text/plain": [
              "<Figure size 640x480 with 1 Axes>"
            ],
            "image/png": "[encoded data removed]"
          },
          "metadata": {}
        }
      ]
    },
    {
      "cell_type": "markdown",
      "source": [
        "***In this simple example:***\n",
        "\n",
        "We have a dataset with square footage of houses and their corresponding prices.\n",
        "We use this data to train a linear regression model.\n",
        "The red line in the plot represents the model's predictions. It tries to fit the best line to represent the relationship between the square footage and the price.\n",
        "The blue points represent the actual data.\n",
        "The key takeaway here is that we \"taught\" the model the relationship between house size and price using labeled data (i.e., we already knew the prices for the given sizes). Once trained, the model can be used to predict prices for new, unseen house sizes. This is the essence of supervised learning."
      ],
      "metadata": {
        "id": "ss8mFPGDQkqY"
      }
    },
    {
      "cell_type": "markdown",
      "source": [
        "**Unsupervised Learning:**\n",
        "\n",
        " Here, we provide the algorithm with data that doesn't have labels. The system tries to learn the patterns and the structure from the data without any prior training. Common tasks here are clustering and association."
      ],
      "metadata": {
        "id": "MbEbHov-QrMj"
      }
    },
    {
      "cell_type": "code",
      "source": [
        "# Imagine you have a dataset of different fruits but without their names.\n",
        "# The algorithm can cluster these fruits based on characteristics like shape, size, and color.\n"
      ],
      "metadata": {
        "id": "m632m5FNQy4D"
      },
      "execution_count": 3,
      "outputs": []
    },
    {
      "cell_type": "markdown",
      "source": [
        "For the purpose of this example, let's say you have data points representing fruits based on two features: sweetness and crunchiness. The data doesn't tell us which fruit is which, but the algorithm can cluster them based on these features.\n",
        "\n",
        "\n",
        "Here's how you could approach this using scikit-learn's KMeans clustering:"
      ],
      "metadata": {
        "id": "bor7sh_jQ9Tl"
      }
    },
    {
      "cell_type": "code",
      "source": [
        "import numpy as np\n",
        "from sklearn.cluster import KMeans\n",
        "import matplotlib.pyplot as plt\n",
        "\n",
        "# Sample dataset: [sweetness, crunchiness]\n",
        "fruits = np.array([\n",
        "    [5, 7],  # an apple perhaps\n",
        "    [6, 8],  # another apple\n",
        "    [3, 3],  # maybe a grape\n",
        "    [2, 2],  # another grape\n",
        "    [8, 5],  # could be an orange\n",
        "    [7, 4]   # another orange\n",
        "])\n",
        "\n",
        "# Using KMeans clustering\n",
        "kmeans = KMeans(n_clusters=3)  # We choose 3 clusters because we \"guess\" there are 3 types of fruits\n",
        "kmeans.fit(fruits)\n",
        "\n",
        "# Getting the cluster assignments for each data point\n",
        "labels = kmeans.labels_\n",
        "\n",
        "# Plotting the data points and their cluster assignments\n",
        "for i, color in zip(range(3), ['red', 'blue', 'green']):\n",
        "    plt.scatter(fruits[labels == i][:, 0], fruits[labels == i][:, 1], color=color)\n",
        "\n",
        "plt.title('Clustering of Fruits based on Sweetness and Crunchiness')\n",
        "plt.xlabel('Sweetness')\n",
        "plt.ylabel('Crunchiness')\n",
        "plt.grid(True)\n",
        "plt.show()\n"
      ],
      "metadata": {
        "colab": {
          "base_uri": "https://localhost:8080/",
          "height": 509
        },
        "id": "01wqm8GORA4M",
        "outputId": "a3e0f91d-1f9b-4032-8266-7d883f83ff15"
      },
      "execution_count": 4,
      "outputs": [
        {
          "output_type": "stream",
          "name": "stderr",
          "text": [
            "/usr/local/lib/python3.10/dist-packages/sklearn/cluster/_kmeans.py:870: FutureWarning: The default value of `n_init` will change from 10 to 'auto' in 1.4. Set the value of `n_init` explicitly to suppress the warning\n",
            "  warnings.warn(\n"
          ]
        },
        {
          "output_type": "display_data",
          "data": {
            "text/plain": [
              "<Figure size 640x480 with 1 Axes>"
            ],
            "image/png": "[encoded data removed]"
          },
          "metadata": {}
        }
      ]
    },
    {
      "cell_type": "markdown",
      "source": [
        "In this example:\n",
        "\n",
        "The data points (fruits) are plotted on a graph with sweetness on the x-axis and crunchiness on the y-axis.\n",
        "We use the KMeans algorithm to group these data points into 3 clusters (because we \"guessed\" there might be 3 types of fruits).\n",
        "The different colors on the plot represent the different clusters. Even though we didn't provide any labels for the fruits, the algorithm clustered them based on their features.\n",
        "This is a representation of unsupervised learning. The model is trying to find inherent groupings or patterns in the data without any prior information or labels. Once the clusters are formed, they can provide insights or be used for other tasks. For instance, if you later find out the names of fruits in one cluster, you can label the entire cluster accordingly."
      ],
      "metadata": {
        "id": "eGj_o0JJRLip"
      }
    },
    {
      "cell_type": "markdown",
      "source": [
        "**Reinforcement Learning:**\n",
        "\n",
        " It's a type of learning where an agent learns how to behave in an environment by performing certain actions and getting rewards or penalties in return."
      ],
      "metadata": {
        "id": "8-g3T2J4RQky"
      }
    },
    {
      "cell_type": "code",
      "source": [
        "# Think of it as training a dog:\n",
        "# If the dog sits when you tell it to, you give it a treat (reward).\n",
        "# If it doesn't, you might say 'No' (penalty).\n",
        "# Over time, the dog learns the behavior to maximize the rewards.\n"
      ],
      "metadata": {
        "id": "9B5x304ZRUy9"
      },
      "execution_count": 5,
      "outputs": []
    },
    {
      "cell_type": "markdown",
      "source": [
        "**Example:**\n",
        "\n",
        "Imagine teaching a computer to play a very basic game.\n",
        "\n",
        "In this game, there's a grid, and the computer's goal is to move a character to a target location on the grid while avoiding obstacles. The computer doesn't know the best path initially, but every time it makes a move, it gets feedback:\n",
        "\n",
        "Positive feedback (or a \"reward\") when it moves closer to the target.\n",
        "Negative feedback (or a \"penalty\") if it hits an obstacle or moves away from the target.\n",
        "The computer plays the game many times. Through trial and error, it learns which moves increase its score and which ones decrease it. Over time, it develops a strategy to reach the target while maximizing its score. This is the essence of Reinforcement Learning: an agent (in this case, the computer) learns to make decisions by interacting with an environment (the game) and receiving feedback (rewards or penalties).\n",
        "\n",
        "\n",
        "Let's illustrate this with a pseudo-code:"
      ],
      "metadata": {
        "id": "0MgrvIZuST-v"
      }
    },
    {
      "cell_type": "code",
      "source": [
        "Initialize the game grid with character, target, and obstacles\n",
        "Initialize the character's starting position\n",
        "\n",
        "For each game episode:\n",
        "    While the game is not over:\n",
        "        Let the agent (computer) decide a move (up, down, left, right)\n",
        "        Apply the move and update the character's position\n",
        "        If the character reaches the target:\n",
        "            Give a positive reward\n",
        "            End the game episode\n",
        "        Else if the character hits an obstacle:\n",
        "            Give a negative reward\n",
        "            End the game episode\n",
        "        Else:\n",
        "            Give a small reward based on how close the character is to the target\n",
        "    Use the feedback from this episode to update the agent's strategy\n"
      ],
      "metadata": {
        "id": "kVYbT9TYSbnm"
      },
      "execution_count": null,
      "outputs": []
    },
    {
      "cell_type": "markdown",
      "source": [],
      "metadata": {
        "id": "kY5G98U8Sgb8"
      }
    },
    {
      "cell_type": "markdown",
      "source": [
        "With each episode, the agent refines its strategy, and after many episodes, it typically finds an optimal or near-optimal strategy to reach the target while avoiding obstacles.\n",
        "\n",
        "The key components of RL here are:\n",
        "\n",
        "**Agent**: The entity that's making decisions. In this example, it's the computer playing the game.\n",
        "\n",
        "**Environment:** The external system the agent interacts with. Here, it's the game grid.\n",
        "\n",
        "**Action:** What the agent can do. Here, the actions are the moves (up, down, left, right).\n",
        "\n",
        "**State:** The current situation or configuration. In this context, it's the current positions of the character, target, and obstacles on the grid.\n",
        "\n",
        "**Reward:** Feedback the agent receives after taking an action in a state. It tells the agent how good or bad that action was."
      ],
      "metadata": {
        "id": "zAwEOvjYSk3_"
      }
    },
    {
      "cell_type": "markdown",
      "source": [
        " Let's create a simplified grid-based game as previously described.\n",
        " The agent will start at the bottom-left corner, and its goal is to reach the top-right corner while avoiding obstacles.\n",
        "\n",
        "\n",
        "Here's a simple Python implementation using basic libraries:"
      ],
      "metadata": {
        "id": "op2KWefJS16d"
      }
    },
    {
      "cell_type": "code",
      "source": [
        "import numpy as np\n",
        "import random\n",
        "\n",
        "# Define the grid\n",
        "grid_size = 5\n",
        "grid = np.zeros((grid_size, grid_size))\n",
        "\n",
        "# Starting and target positions\n",
        "start = (grid_size - 1, 0)\n",
        "target = (0, grid_size - 1)\n",
        "\n",
        "# Some obstacles\n",
        "obstacles = [(1, 1), (2, 2), (3, 3)]\n",
        "\n",
        "for obstacle in obstacles:\n",
        "    grid[obstacle] = -1  # represent obstacles with -1\n",
        "\n",
        "def move(position, action):\n",
        "    \"\"\"Return new position after the action.\"\"\"\n",
        "    if action == \"up\" and position[0] > 0:\n",
        "        return (position[0]-1, position[1])\n",
        "    if action == \"down\" and position[0] < grid_size - 1:\n",
        "        return (position[0]+1, position[1])\n",
        "    if action == \"left\" and position[1] > 0:\n",
        "        return (position[0], position[1]-1)\n",
        "    if action == \"right\" and position[1] < grid_size - 1:\n",
        "        return (position[0], position[1]+1)\n",
        "    return position\n",
        "\n",
        "def get_reward(position):\n",
        "    \"\"\"Return the reward for the given position.\"\"\"\n",
        "    if position == target:\n",
        "        return 10\n",
        "    if grid[position] == -1:\n",
        "        return -10\n",
        "    return -1  # small penalty for each move to encourage reaching the target faster\n",
        "\n",
        "# Simulation parameters\n",
        "num_episodes = 100\n",
        "max_steps_per_episode = 50\n",
        "learning_rate = 0.1\n",
        "discount_rate = 0.99\n",
        "exploration_rate = 1\n",
        "max_exploration_rate = 1\n",
        "min_exploration_rate = 0.01\n",
        "exploration_decay_rate = 0.01\n",
        "\n",
        "q_table = np.zeros((grid_size, grid_size, 4))  # 4 for four possible actions\n",
        "\n",
        "# Train the agent\n",
        "for episode in range(num_episodes):\n",
        "    position = start\n",
        "    done = False\n",
        "    for step in range(max_steps_per_episode):\n",
        "        exploration_threshold = random.uniform(0, 1)\n",
        "        if exploration_threshold > exploration_rate:\n",
        "            # Take the action that has the maximum expected future reward\n",
        "            action_index = np.argmax(q_table[position[0], position[1], :])\n",
        "        else:\n",
        "            # Take a random action\n",
        "            action_index = random.randint(0, 3)\n",
        "\n",
        "        actions = [\"up\", \"down\", \"left\", \"right\"]\n",
        "        new_position = move(position, actions[action_index])\n",
        "        reward = get_reward(new_position)\n",
        "        if new_position == target or grid[new_position] == -1:\n",
        "            done = True\n",
        "\n",
        "        # Update Q-table\n",
        "        q_table[position[0], position[1], action_index] = q_table[position[0], position[1], action_index] * (1 - learning_rate) + \\\n",
        "            learning_rate * (reward + discount_rate * np.max(q_table[new_position[0], new_position[1], :]))\n",
        "\n",
        "        position = new_position\n",
        "\n",
        "        if done:\n",
        "            break\n",
        "\n",
        "    # Exploration rate decay\n",
        "    exploration_rate = min_exploration_rate + \\\n",
        "        (max_exploration_rate - min_exploration_rate) * np.exp(-exploration_decay_rate*episode)\n",
        "\n",
        "# Test the trained agent\n",
        "position = start\n",
        "while position != target and grid[position] != -1:\n",
        "    action_index = np.argmax(q_table[position[0], position[1], :])\n",
        "    actions = [\"up\", \"down\", \"left\", \"right\"]\n",
        "    print(f\"Position: {position}, Action: {actions[action_index]}\")\n",
        "    position = move(position, actions[action_index])\n",
        "\n",
        "print(\"Reached the target!\")\n"
      ],
      "metadata": {
        "colab": {
          "base_uri": "https://localhost:8080/"
        },
        "id": "StCFXrDZTABD",
        "outputId": "17996bd2-2a03-4539-a94b-59d6de4dc474"
      },
      "execution_count": 8,
      "outputs": [
        {
          "output_type": "stream",
          "name": "stdout",
          "text": [
            "Position: (4, 0), Action: right\n",
            "Position: (4, 1), Action: right\n",
            "Position: (4, 2), Action: right\n",
            "Position: (4, 3), Action: right\n",
            "Position: (4, 4), Action: up\n",
            "Position: (3, 4), Action: up\n",
            "Position: (2, 4), Action: up\n",
            "Position: (1, 4), Action: up\n",
            "Reached the target!\n"
          ]
        }
      ]
    },
    {
      "cell_type": "markdown",
      "source": [
        "This code trains an agent to navigate a simple grid environment. It starts at the bottom-left, aims to reach the top-right, and has to avoid obstacles. The Q-learning algorithm helps the agent to learn the best strategy over time. After training, the agent's moves are printed to demonstrate its learned behavior."
      ],
      "metadata": {
        "id": "xFD2PvrETGUD"
      }
    },
    {
      "cell_type": "markdown",
      "source": [
        "#2- Understanding Data\n",
        "\n",
        "**Importance of Data in ML**:\n",
        "\n",
        "Machine Learning (ML) can be thought of as teaching computers to recognize patterns, much like we teach children using examples. Data for ML is equivalent to textbooks for students. The quality and quantity of data directly influence the learning process.\n",
        "\n",
        "**Example:**\n",
        "\n",
        "Imagine trying to teach a child about animals, but all you show them are pictures of cats. If you then show the child a picture of a dog, they might mistake it for a cat because they've only ever seen cats. In ML, if you only train a model with cat images, it will likely predict a dog as a cat.\n",
        "\n",
        "\n",
        "\n",
        "**Data Collection and Cleaning**:\n",
        "\n",
        "Collecting data is the process of gathering information relevant to your problem. Cleaning refers to the process of preparing this data for your machine learning algorithms, which may involve removing duplicates, handling missing values, and converting data types.\n",
        "\n",
        "**Example:**\n",
        "Let's say you want to predict house prices. You gather data on house sizes, the number of bedrooms, and the actual prices they were sold for. However, some entries have missing values for bedrooms, and some have the size recorded in square meters while others in square feet. Cleaning would involve filling the missing bedroom values, perhaps using the median of the dataset, and converting all sizes to a consistent unit, like square meters.\n",
        "\n",
        "\n",
        "**Data Splitting:** Training, Validation, and Test Sets\n",
        "\n",
        "*Once data is collected and cleaned, it is essential to divide it for various purposes:*\n",
        "\n",
        "**Training Set:** This is the data on which your model will learn. It's like the practice problems a student does while studying.\n",
        "\n",
        "**Validation Set:** This data set helps in model tuning. It's like a mock test before the final exam, giving an indication of how well the learning is going, without it being the final judgment.\n",
        "\n",
        "**Test Set:** This is the untouched data you use to assess how well your model is doing after it's trained. It's the \"final exam\" for the model.\n",
        "\n",
        "\n",
        "**Example:**\n",
        "Let's use the house prices example. Once you've collected data on 1000 houses:\n",
        "\n",
        "You might use 700 for training. This means the model will look at these 700 examples and learn the relationship between house size, the number of bedrooms, and price.\n",
        "\n",
        "\n",
        "Out of the remaining 300, you might use 200 as a validation set. After your model has learned from the 700 training examples, you test it on these 200 to tune your model's parameters for better performance.\n",
        "\n",
        "\n",
        "Finally, the last 100 examples might be your test set. This set gives you an unbiased evaluation of your final model. If it predicts these house prices correctly, you can be relatively confident that it will work well in the real world.\n",
        "\n",
        "\n",
        "To wrap up, understanding and preparing your data is vital in the ML process. Your model's performance heavily depends on the quality and quantity of the data it's trained on. It's often said in the ML community: \"Garbage in, garbage out.\" This means if your data is not good, even the best algorithms won't produce desirable results.\n"
      ],
      "metadata": {
        "id": "ODLC6hUiTpmX"
      }
    },
    {
      "cell_type": "markdown",
      "source": [
        "# Let's use Python code to demonstrate the topics discussed  ⚡"
      ],
      "metadata": {
        "id": "NNjbQl1cVS4k"
      }
    },
    {
      "cell_type": "markdown",
      "source": [
        "For this demonstration, we'll use the pandas library for data manipulation and the scikit-learn library for machine learning tasks.\n",
        "\n",
        "\n",
        "Data Collection:"
      ],
      "metadata": {
        "id": "MwhnYNfHVjXO"
      }
    },
    {
      "cell_type": "code",
      "source": [
        "# Import necessary libraries\n",
        "import pandas as pd\n",
        "\n",
        "# Suppose we are collecting data about house prices.\n",
        "# For simplicity, let's create a small dataset.\n",
        "data = {\n",
        "    'House Size (sqft)': [1000, 1500, 1200, 1100, 1600, 1400, 1550],\n",
        "    'Bedrooms': [2, 3, 2, 2, 4, 3, 3],\n",
        "    'Price': [50000, 70000, 55000, 52000, 80000, 65000, 72000]\n",
        "}\n",
        "\n",
        "df = pd.DataFrame(data)\n",
        "\n",
        "print(df)\n"
      ],
      "metadata": {
        "colab": {
          "base_uri": "https://localhost:8080/"
        },
        "id": "yDNe4vO-VmA6",
        "outputId": "77235dfb-fcdb-458b-e9d2-9e822ce54a6a"
      },
      "execution_count": 9,
      "outputs": [
        {
          "output_type": "stream",
          "name": "stdout",
          "text": [
            "   House Size (sqft)  Bedrooms  Price\n",
            "0               1000         2  50000\n",
            "1               1500         3  70000\n",
            "2               1200         2  55000\n",
            "3               1100         2  52000\n",
            "4               1600         4  80000\n",
            "5               1400         3  65000\n",
            "6               1550         3  72000\n"
          ]
        }
      ]
    },
    {
      "cell_type": "markdown",
      "source": [
        "Here, we've created a simple DataFrame df that represents our data collection.\n",
        "\n",
        "Data Cleaning:"
      ],
      "metadata": {
        "id": "IGd81A5rVp4D"
      }
    },
    {
      "cell_type": "code",
      "source": [
        "# Let's assume that one of the data points was recorded in square meters instead of square feet.\n",
        "# For simplicity, let's say the first entry (1000 sqft) was actually 93 sqm (which is roughly 1000 sqft).\n",
        "df.loc[0, 'House Size (sqft)'] = 93 * 10.764  # Convert square meters to square feet\n",
        "\n",
        "# Let's also assume there's a missing value in the Bedrooms column\n",
        "df.loc[2, 'Bedrooms'] = None\n",
        "\n",
        "print(df)\n",
        "\n",
        "# Handling missing values by filling with the median\n",
        "df['Bedrooms'].fillna(df['Bedrooms'].median(), inplace=True)\n",
        "\n",
        "print(\"\\nAfter handling missing values:\")\n",
        "print(df)\n"
      ],
      "metadata": {
        "colab": {
          "base_uri": "https://localhost:8080/"
        },
        "id": "qyH1_IwHVtAI",
        "outputId": "f89f7d14-c44a-4645-d65a-147bb406e774"
      },
      "execution_count": 10,
      "outputs": [
        {
          "output_type": "stream",
          "name": "stdout",
          "text": [
            "   House Size (sqft)  Bedrooms  Price\n",
            "0           1001.052       2.0  50000\n",
            "1           1500.000       3.0  70000\n",
            "2           1200.000       NaN  55000\n",
            "3           1100.000       2.0  52000\n",
            "4           1600.000       4.0  80000\n",
            "5           1400.000       3.0  65000\n",
            "6           1550.000       3.0  72000\n",
            "\n",
            "After handling missing values:\n",
            "   House Size (sqft)  Bedrooms  Price\n",
            "0           1001.052       2.0  50000\n",
            "1           1500.000       3.0  70000\n",
            "2           1200.000       3.0  55000\n",
            "3           1100.000       2.0  52000\n",
            "4           1600.000       4.0  80000\n",
            "5           1400.000       3.0  65000\n",
            "6           1550.000       3.0  72000\n"
          ]
        }
      ]
    },
    {
      "cell_type": "markdown",
      "source": [
        "The above code demonstrates how to convert data to consistent units and handle missing values.\n",
        "\n",
        "Data Splitting:"
      ],
      "metadata": {
        "id": "n74JXyWtVwf2"
      }
    },
    {
      "cell_type": "code",
      "source": [
        "from sklearn.model_selection import train_test_split\n",
        "\n",
        "# Split data into features (X) and target (y)\n",
        "X = df.drop('Price', axis=1)\n",
        "y = df['Price']\n",
        "\n",
        "# Split the data into training (70%), validation (20%), and test (10%) sets\n",
        "X_train, X_temp, y_train, y_temp = train_test_split(X, y, test_size=0.3, random_state=42)\n",
        "X_val, X_test, y_val, y_test = train_test_split(X_temp, y_temp, test_size=0.33, random_state=42)\n",
        "\n",
        "print(\"\\nTraining Data:\")\n",
        "print(X_train)\n",
        "print(\"\\nValidation Data:\")\n",
        "print(X_val)\n",
        "print(\"\\nTest Data:\")\n",
        "print(X_test)\n"
      ],
      "metadata": {
        "colab": {
          "base_uri": "https://localhost:8080/"
        },
        "id": "IUdSKVxjWEsp",
        "outputId": "754f936a-b124-4bf7-b32d-e83947eea2e3"
      },
      "execution_count": 11,
      "outputs": [
        {
          "output_type": "stream",
          "name": "stdout",
          "text": [
            "\n",
            "Training Data:\n",
            "   House Size (sqft)  Bedrooms\n",
            "2             1200.0       3.0\n",
            "4             1600.0       4.0\n",
            "3             1100.0       2.0\n",
            "6             1550.0       3.0\n",
            "\n",
            "Validation Data:\n",
            "   House Size (sqft)  Bedrooms\n",
            "1             1500.0       3.0\n",
            "5             1400.0       3.0\n",
            "\n",
            "Test Data:\n",
            "   House Size (sqft)  Bedrooms\n",
            "0           1001.052       2.0\n"
          ]
        }
      ]
    },
    {
      "cell_type": "markdown",
      "source": [
        "Here, we've used train_test_split from scikit-learn to split our data into training, validation, and test sets.\n",
        "\n",
        "Explanations:\n",
        "In the Data Collection step, we used the pandas library to simulate the process of collecting data on house prices.\n",
        "\n",
        "For Data Cleaning, we introduced an inconsistency (square meters instead of square feet) and a missing value in our data, then showed how to address these issues. We converted the size from square meters to square feet and filled missing values using the median of the Bedrooms column.\n",
        "\n",
        "Data Splitting demonstrated the practice of dividing our dataset into separate sets for training, validating, and testing our machine learning models. We used the train_test_split function from scikit-learn to achieve this.\n",
        "\n",
        "Each step in this process is crucial to ensure that our machine learning models learn effectively and are evaluated properly."
      ],
      "metadata": {
        "id": "soX4WQm1WLgn"
      }
    },
    {
      "cell_type": "markdown",
      "source": [
        "# 3- Supervised Learning\n",
        "\n",
        "Definition and Examples\n",
        "\n",
        "Regression\n",
        "\n",
        "Linear Regression\n",
        "\n",
        "Polynomial Regression\n",
        "\n",
        "Classification\n",
        "\n",
        "Logistic Regression\n",
        "\n",
        "Decision Trees\n",
        "Random Forests\n",
        "\n",
        "Support Vector Machines\n"
      ],
      "metadata": {
        "id": "LzWe2SD4YQ7b"
      }
    },
    {
      "cell_type": "markdown",
      "source": [
        "**Definition:** Supervised learning is a type of machine learning paradigm where the model is trained on labeled data. The data is considered \"labeled\" when both the input data (independent variable) and the desired output (dependent variable) are provided.\n",
        "\n",
        "**Example:** If you have images of cats and dogs and their corresponding labels, teaching a machine to identify whether a new image is a cat or dog is a supervised learning problem.\n",
        "\n",
        "**Regression**\n",
        "\n",
        "Definition: Regression in machine learning involves predicting a continuous value based on the input data.\n",
        "\n",
        "For instance, predicting the price of a house based on features like its size, location, number of bedrooms, etc., is a regression problem."
      ],
      "metadata": {
        "id": "bHcPeQ-vZBPD"
      }
    },
    {
      "cell_type": "markdown",
      "source": [
        "**Linear Regression**\n",
        "Definition: Linear regression is a linear approach to model the relationship between a dependent variable and one or more independent variables.\n",
        "\n",
        "**Example:**\n",
        "\n",
        "Let's create a simple linear regression model using scikit-learn:"
      ],
      "metadata": {
        "id": "GgLa780UZK56"
      }
    },
    {
      "cell_type": "code",
      "source": [
        "import numpy as np\n",
        "from sklearn.linear_model import LinearRegression\n",
        "import matplotlib.pyplot as plt\n",
        "\n",
        "# Generate some sample data\n",
        "X = np.random.rand(100, 1) * 10  # Random dataset of house sizes\n",
        "y = 2.5 * X + 5 + np.random.randn(100, 1) * 2  # Prices with a linear relationship + noise\n",
        "\n",
        "# Train a linear regression model\n",
        "model = LinearRegression().fit(X, y)\n",
        "\n",
        "# Predict\n",
        "predictions = model.predict(X)\n",
        "\n",
        "# Plot\n",
        "plt.scatter(X, y, color='blue')\n",
        "plt.plot(X, predictions, color='red')\n",
        "plt.xlabel('House Size')\n",
        "plt.ylabel('Price')\n",
        "plt.show()\n"
      ],
      "metadata": {
        "colab": {
          "base_uri": "https://localhost:8080/",
          "height": 453
        },
        "id": "9idxCe7rZP3l",
        "outputId": "1451070e-8499-46b7-8ecc-674931b8e286"
      },
      "execution_count": 12,
      "outputs": [
        {
          "output_type": "display_data",
          "data": {
            "text/plain": [
              "<Figure size 640x480 with 1 Axes>"
            ],
            "image/png": "[encoded data removed]"
          },
          "metadata": {}
        }
      ]
    },
    {
      "cell_type": "markdown",
      "source": [
        "In this code, we've generated a random dataset of house sizes (X) and their prices (y), then trained a linear regression model to learn the relationship."
      ],
      "metadata": {
        "id": "1utQCs82ZTkc"
      }
    },
    {
      "cell_type": "markdown",
      "source": [
        "**Polynomial Regression**\n",
        "\n",
        "Definition: Polynomial regression is a type of regression where the relationship between the independent variable and the dependent variable is modeled as an nth-degree polynomial.\n",
        "\n",
        "**Example:**"
      ],
      "metadata": {
        "id": "qYy-RoOOZevp"
      }
    },
    {
      "cell_type": "code",
      "source": [
        "from sklearn.preprocessing import PolynomialFeatures\n",
        "\n",
        "# Generate some sample data with a quadratic relationship\n",
        "X = np.random.rand(100, 1) * 10\n",
        "y = X**2 + X + 3 + np.random.randn(100, 1) * 5\n",
        "\n",
        "# Transform features to polynomial\n",
        "poly_features = PolynomialFeatures(degree=2, include_bias=False)\n",
        "X_poly = poly_features.fit_transform(X)\n",
        "\n",
        "# Train a linear regression model on the transformed features\n",
        "model = LinearRegression().fit(X_poly, y)\n",
        "\n",
        "# Predict\n",
        "X_new = np.linspace(0, 10, 100).reshape(100, 1)\n",
        "X_new_poly = poly_features.transform(X_new)\n",
        "predictions = model.predict(X_new_poly)\n",
        "\n",
        "# Plot\n",
        "plt.scatter(X, y, color='blue')\n",
        "plt.plot(X_new, predictions, color='red')\n",
        "plt.xlabel('Feature value')\n",
        "plt.ylabel('Target value')\n",
        "plt.show()\n"
      ],
      "metadata": {
        "colab": {
          "base_uri": "https://localhost:8080/",
          "height": 449
        },
        "id": "St7LD9-YZktQ",
        "outputId": "ad930007-dd36-40d8-be6e-56b44ba68180"
      },
      "execution_count": 13,
      "outputs": [
        {
          "output_type": "display_data",
          "data": {
            "text/plain": [
              "<Figure size 640x480 with 1 Axes>"
            ],
            "image/png": "[encoded data removed]"
          },
          "metadata": {}
        }
      ]
    },
    {
      "cell_type": "markdown",
      "source": [
        "Here, the relationship between X and y is not linear, but we can still use linear regression by first transforming our data into polynomial features."
      ],
      "metadata": {
        "id": "dTOA6q-TZo0m"
      }
    },
    {
      "cell_type": "markdown",
      "source": [
        "**Classification**\n",
        "Definition: Classification involves predicting discrete values (or classes) based on input data."
      ],
      "metadata": {
        "id": "dRz-CZnMZsBr"
      }
    },
    {
      "cell_type": "markdown",
      "source": [
        "**Logistic Regression**\n",
        "\n",
        "Definition: Despite its name, logistic regression is used for binary classification. It predicts the probability that a given instance belongs to a particular category.\n",
        "\n",
        "Example:"
      ],
      "metadata": {
        "id": "aLhv8E_2Zvix"
      }
    },
    {
      "cell_type": "code",
      "source": [
        "from sklearn.linear_model import LogisticRegression\n",
        "from sklearn.datasets import make_classification\n",
        "\n",
        "# Generate a random dataset with two classes\n",
        "X, y = make_classification(n_samples=100, n_features=1, n_informative=1, n_redundant=0, n_clusters_per_class=1)\n",
        "\n",
        "\n",
        "# Train a logistic regression classifier\n",
        "clf = LogisticRegression().fit(X, y)\n",
        "\n",
        "# Plot\n",
        "plt.scatter(X, y, color='blue')\n",
        "plt.plot(X, clf.predict(X), color='red')\n",
        "plt.xlabel('Feature Value')\n",
        "plt.ylabel('Class')\n",
        "plt.show()\n"
      ],
      "metadata": {
        "colab": {
          "base_uri": "https://localhost:8080/",
          "height": 449
        },
        "id": "gJNqMMPeZzK9",
        "outputId": "5dd5e1a8-6186-4e00-c30f-9f6522b047ce"
      },
      "execution_count": 15,
      "outputs": [
        {
          "output_type": "display_data",
          "data": {
            "text/plain": [
              "<Figure size 640x480 with 1 Axes>"
            ],
            "image/png": "[encoded data removed]"
          },
          "metadata": {}
        }
      ]
    },
    {
      "cell_type": "markdown",
      "source": [
        "Let's explain the code ✅"
      ],
      "metadata": {
        "id": "LqVFjmAkaW1m"
      }
    },
    {
      "cell_type": "markdown",
      "source": [
        "Importing necessary modules:\n",
        "\n",
        "from sklearn.linear_model import LogisticRegression\n",
        "from sklearn.datasets import make_classification\n",
        "\n",
        "Here, you're importing two main functionalities:\n",
        "\n",
        "LogisticRegression: This is a class from the scikit-learn library that allows you to implement and train a logistic regression model.\n",
        "\n",
        "make_classification: This is a function that lets you generate a random n-class classification problem.\n",
        "\n",
        "Generating a Random Dataset:\n",
        "\n",
        "\n",
        "\n",
        "X, y = make_classification(n_samples=100, n_features=1, n_informative=1, n_redundant=0, n_clusters_per_class=1)\n",
        "\n",
        "In this line, you're creating a random dataset:\n",
        "\n",
        "n_samples=100: You want 100 data points.\n",
        "n_features=1: Each data point has only one feature (i.e., one-dimensional data).\n",
        "n_informative=1: Out of the total features (which is 1), all of them (i.e., 1) are informative or useful in predicting the target variable.\n",
        "n_redundant=0: There are no redundant (or extra) features that can be linearly derived from the informative features.\n",
        "\n",
        "n_clusters_per_class=1: For each class, there is only one cluster of data.\n",
        "\n",
        "\n",
        "\n",
        "Training a Logistic Regression Classifier:\n",
        "\n",
        "clf = LogisticRegression().fit(X, y)\n",
        "Here, you're creating a logistic regression model and training it using the data (X and y). After this line, clf will contain the trained model.\n",
        "\n",
        "\n",
        "Plotting the Data and the Classifier's Predictions:\n",
        "\n",
        "\n",
        "plt.scatter(X, y, color='blue')\n",
        "This line plots the actual data points. Each point is represented by its feature value (X) and its class (y), using blue color.\n",
        "\n",
        "\n",
        "plt.plot(X, clf.predict(X), color='red')\n",
        "This line plots the predictions of the trained classifier (clf) for each data point in X. The predictions are shown in red.\n",
        "\n",
        "\n",
        "plt.xlabel('Feature Value')\n",
        "plt.ylabel('Class')\n",
        "plt.show()\n",
        "\n",
        "\n",
        "These lines set the x-axis label, y-axis label, and display the plot, respectively.\n",
        "\n",
        "\n",
        "In essence, this code generates a random one-dimensional dataset, trains a logistic regression classifier on it, and then visualizes the data points and the predictions of the classifier. The blue points represent the actual data, while the red line represents the classifier's predictions."
      ],
      "metadata": {
        "id": "aVJBPGjTafLz"
      }
    },
    {
      "cell_type": "markdown",
      "source": [
        "**Decision Trees**\n",
        "\n",
        "Definition: A decision tree is a flowchart-like tree structure where an internal node represents a feature(or attribute), the branch represents a decision rule, and each leaf node represents an outcome.\n",
        "\n",
        "Example:"
      ],
      "metadata": {
        "id": "gGDrj39ma5PW"
      }
    },
    {
      "cell_type": "code",
      "source": [
        "from sklearn.tree import DecisionTreeClassifier\n",
        "\n",
        "# Using the same dataset from the logistic regression example\n",
        "tree_clf = DecisionTreeClassifier().fit(X, y)\n",
        "\n",
        "plt.scatter(X, y, color='blue')\n",
        "plt.plot(X, tree_clf.predict(X), color='red')\n",
        "plt.xlabel('Feature Value')\n",
        "plt.ylabel('Class')\n",
        "plt.show()\n"
      ],
      "metadata": {
        "colab": {
          "base_uri": "https://localhost:8080/",
          "height": 449
        },
        "id": "4ITcQQWsa9d3",
        "outputId": "a9429ab5-337d-42ec-fb92-8cb24a274442"
      },
      "execution_count": 16,
      "outputs": [
        {
          "output_type": "display_data",
          "data": {
            "text/plain": [
              "<Figure size 640x480 with 1 Axes>"
            ],
            "image/png": "[encoded data removed]"
          },
          "metadata": {}
        }
      ]
    },
    {
      "cell_type": "markdown",
      "source": [
        "**Random Forests**\n",
        "\n",
        "Definition: Random forests consist of multiple decision trees. For each prediction, the random forest considers the predictions of each individual tree, and chooses the prediction that gets the most votes.\n",
        "\n",
        "Example:"
      ],
      "metadata": {
        "id": "un61IOBUbBlC"
      }
    },
    {
      "cell_type": "code",
      "source": [
        "from sklearn.ensemble import RandomForestClassifier\n",
        "\n",
        "# Using the same dataset\n",
        "forest_clf = RandomForestClassifier(n_estimators=100).fit(X, y)\n",
        "\n",
        "plt.scatter(X, y, color='blue')\n",
        "plt.plot(X, forest_clf.predict(X), color='red')\n",
        "plt.xlabel('Feature Value')\n",
        "plt.ylabel('Class')\n",
        "plt.show()\n"
      ],
      "metadata": {
        "colab": {
          "base_uri": "https://localhost:8080/",
          "height": 449
        },
        "id": "_j6VA43PbGT4",
        "outputId": "889f8d13-fe34-4561-bc45-6fe2d5e578c5"
      },
      "execution_count": 17,
      "outputs": [
        {
          "output_type": "display_data",
          "data": {
            "text/plain": [
              "<Figure size 640x480 with 1 Axes>"
            ],
            "image/png": "[encoded data removed]"
          },
          "metadata": {}
        }
      ]
    },
    {
      "cell_type": "markdown",
      "source": [
        "**Support Vector Machines**\n",
        "\n",
        "Definition: SVMs are supervised learning models with associated learning algorithms that analyze data used for classification and regression analysis. They work by finding a hyperplane that best divides a dataset into classes.\n",
        "\n",
        "Example:"
      ],
      "metadata": {
        "id": "ExSaqv_1bKYn"
      }
    },
    {
      "cell_type": "code",
      "source": [
        "from sklearn.svm import SVC\n",
        "\n",
        "# Using the same dataset\n",
        "svm_clf = SVC(kernel='linear').fit(X, y)\n",
        "\n",
        "plt.scatter(X, y, color='blue')\n",
        "plt.plot(X, svm_clf.predict(X), color='red')\n",
        "plt.xlabel('Feature Value')\n",
        "plt.ylabel('Class')\n",
        "plt.show()\n"
      ],
      "metadata": {
        "colab": {
          "base_uri": "https://localhost:8080/",
          "height": 449
        },
        "id": "UjYOXgaobP6y",
        "outputId": "4251580e-bf56-4d11-8f99-3c518850c83b"
      },
      "execution_count": 18,
      "outputs": [
        {
          "output_type": "display_data",
          "data": {
            "text/plain": [
              "<Figure size 640x480 with 1 Axes>"
            ],
            "image/png": "[encoded data removed]"
          },
          "metadata": {}
        }
      ]
    },
    {
      "cell_type": "markdown",
      "source": [
        "# 3-Supervised Learning\n",
        "\n",
        "Definition and Examples\n",
        "\n",
        "Regression\n",
        "\n",
        "Linear Regression\n",
        "\n",
        "Polynomial Regression\n",
        "\n",
        "Classification\n",
        "\n",
        "Logistic Regression\n",
        "\n",
        "Decision Trees\n",
        "\n",
        "Random Forests\n",
        "\n",
        "Support Vector Machines\n"
      ],
      "metadata": {
        "id": "0CCINGtkcMlC"
      }
    },
    {
      "cell_type": "markdown",
      "source": [
        "**Supervised Learning** is a type of machine learning where the model is trained on a labeled dataset. This means the dataset comes with input-output pairs, and the model learns to predict the output for a given input.\n",
        "\n",
        "Example: Think of a teacher teaching a student math problems. The teacher provides the student with a problem (input) and its solution (output). Over time, the student learns to solve similar problems on their own."
      ],
      "metadata": {
        "id": "gr4r8v21cm5L"
      }
    },
    {
      "cell_type": "markdown",
      "source": [
        "**Regression**\n",
        "\n",
        "Regression is a type of supervised learning task where the goal is to predict a continuous value.\n",
        "\n",
        "Example: Predicting house prices based on various features like the number of rooms, location, size, etc.\n",
        "\n",
        "Linear Regression:\n",
        "Linear Regression is a method where the relationship between the input variables and the output is represented as a linear equation.\n",
        "\n",
        "Example:\n",
        "Given a dataset of house sizes and their respective prices, linear regression might produce a straight line that best fits the data."
      ],
      "metadata": {
        "id": "AKuDni2Ecs26"
      }
    },
    {
      "cell_type": "code",
      "source": [
        "import numpy as np\n",
        "from sklearn.linear_model import LinearRegression\n",
        "import matplotlib.pyplot as plt\n",
        "\n",
        "# Sample data\n",
        "X = np.array([1, 2, 3, 4, 5]).reshape(-1, 1)  # House size\n",
        "y = np.array([1, 2.1, 2.9, 4.2, 5.0])  # House price\n",
        "\n",
        "# Train a linear regression model\n",
        "model = LinearRegression().fit(X, y)\n",
        "\n",
        "# Predict\n",
        "predictions = model.predict(X)\n",
        "\n",
        "# Plot\n",
        "plt.scatter(X, y, color='blue')\n",
        "plt.plot(X, predictions, color='red')\n",
        "plt.xlabel('House Size')\n",
        "plt.ylabel('Price')\n",
        "plt.show()\n"
      ],
      "metadata": {
        "colab": {
          "base_uri": "https://localhost:8080/",
          "height": 449
        },
        "id": "Z4nGr-O2c_Ki",
        "outputId": "627341d1-553c-48ef-b65c-cb9c1f418a16"
      },
      "execution_count": 19,
      "outputs": [
        {
          "output_type": "display_data",
          "data": {
            "text/plain": [
              "<Figure size 640x480 with 1 Axes>"
            ],
            "image/png": "[encoded data removed]"
          },
          "metadata": {}
        }
      ]
    },
    {
      "cell_type": "markdown",
      "source": [
        "**Polynomial Regression** is a type of regression where the relationship between the input variables and the output is represented as a polynomial equation.\n",
        "\n",
        "Example:\n",
        "Predicting house prices where a straight line doesn't fit the data well, but a curve does."
      ],
      "metadata": {
        "id": "mW9j2qYDdERi"
      }
    },
    {
      "cell_type": "code",
      "source": [
        "from sklearn.preprocessing import PolynomialFeatures\n",
        "from sklearn.pipeline import make_pipeline\n",
        "\n",
        "# Create a polynomial regression model\n",
        "degree = 2\n",
        "polyreg = make_pipeline(PolynomialFeatures(degree),LinearRegression())\n",
        "polyreg.fit(X, y)\n",
        "\n",
        "# Predict\n",
        "predictions = polyreg.predict(X)\n",
        "\n",
        "# Plot\n",
        "plt.scatter(X, y, color='blue')\n",
        "plt.plot(X, predictions, color='red')\n",
        "plt.xlabel('House Size')\n",
        "plt.ylabel('Price')\n",
        "plt.show()\n"
      ],
      "metadata": {
        "colab": {
          "base_uri": "https://localhost:8080/",
          "height": 449
        },
        "id": "ZbNE6GTbdHj6",
        "outputId": "52849b5a-d330-42d9-85e8-25547beee552"
      },
      "execution_count": 20,
      "outputs": [
        {
          "output_type": "display_data",
          "data": {
            "text/plain": [
              "<Figure size 640x480 with 1 Axes>"
            ],
            "image/png": "[encoded data removed]"
          },
          "metadata": {}
        }
      ]
    },
    {
      "cell_type": "markdown",
      "source": [
        "**Classification**\n",
        "\n",
        "Classification is a supervised learning task where the goal is to predict a category or class label for a given input.\n",
        "\n",
        "**Logistic Regression:**\n",
        "Logistic Regression is a classification algorithm used to predict binary outcomes.\n",
        "\n",
        "Example:\n",
        "Given data on hours studied and pass/fail results, predict if a student will pass or fail."
      ],
      "metadata": {
        "id": "no0tphCkdLbH"
      }
    },
    {
      "cell_type": "code",
      "source": [
        "from sklearn.linear_model import LogisticRegression\n",
        "\n",
        "# Sample data\n",
        "X = np.array([1, 2, 3, 4, 5]).reshape(-1, 1)  # Hours studied\n",
        "y = np.array([0, 0, 1, 1, 1])  # 0: Fail, 1: Pass\n",
        "\n",
        "# Train a logistic regression classifier\n",
        "clf = LogisticRegression().fit(X, y)\n",
        "\n",
        "# Predict\n",
        "predictions = clf.predict(X)\n",
        "\n",
        "# Plot\n",
        "plt.scatter(X, y, color='blue')\n",
        "plt.plot(X, predictions, color='red')\n",
        "plt.xlabel('Hours Studied')\n",
        "plt.ylabel('Pass/Fail')\n",
        "plt.show()\n"
      ],
      "metadata": {
        "colab": {
          "base_uri": "https://localhost:8080/",
          "height": 449
        },
        "id": "zSfBhyAMdRSF",
        "outputId": "0501f2ec-13bc-4fd6-9ec0-10c63926d3c5"
      },
      "execution_count": 21,
      "outputs": [
        {
          "output_type": "display_data",
          "data": {
            "text/plain": [
              "<Figure size 640x480 with 1 Axes>"
            ],
            "image/png": "[encoded data removed]"
          },
          "metadata": {}
        }
      ]
    },
    {
      "cell_type": "markdown",
      "source": [
        "**Decision Trees:**\n",
        "A Decision Tree is a flowchart-like tree structure where each internal node represents a decision on an attribute, and each leaf node represents an outcome.\n",
        "\n",
        "Example:\n",
        "Predicting if a person will buy a computer based on their age and income.\n",
        "\n",
        "(For brevity, I won't include a full code example here, but sklearn.tree.DecisionTreeClassifier is the tool you'd use.)\n",
        "\n",
        "Random Forests:\n",
        "A Random Forest is a collection of decision trees. It aggregates the predictions of multiple decision trees to produce a final result.\n",
        "\n",
        "Example:\n",
        "Predicting if a patient has a specific disease based on various symptoms.\n",
        "\n",
        "(Again, for brevity, no full code here, but you'd use sklearn.ensemble.RandomForestClassifier.)\n",
        "\n",
        "Support Vector Machines:\n",
        "\n",
        "Support Vector Machines (SVM) is a classification algorithm that tries to find a hyperplane that best divides the dataset into classes."
      ],
      "metadata": {
        "id": "Ujr1sY1XdXmI"
      }
    },
    {
      "cell_type": "markdown",
      "source": [
        "Example:\n",
        "Classifying emails as spam or not spam based on their content."
      ],
      "metadata": {
        "id": "n73-EmsOdc5Z"
      }
    },
    {
      "cell_type": "code",
      "source": [
        "from sklearn import svm\n",
        "\n",
        "# Sample data: Here, for simplicity, we'll use 2D points\n",
        "X = [[1, 2], [2, 3], [3, 3], [4, 5], [5, 6]]\n",
        "y = [0, 0, 1, 1, 1]  # 0: Not spam, 1: Spam\n",
        "\n",
        "# Create an SVM classifier\n",
        "clf = svm.SVC(kernel='linear')\n",
        "\n",
        "# Train\n",
        "clf.fit(X, y)\n",
        "\n",
        "# Predict\n",
        "predictions = clf.predict([[2, 2], [4, 4]])\n",
        "\n",
        "print(predictions)  # Expected output: [0, 1]\n"
      ],
      "metadata": {
        "colab": {
          "base_uri": "https://localhost:8080/"
        },
        "id": "IGARVA8wdfcS",
        "outputId": "ee55b051-a424-46ae-c51d-2c57c02dc066"
      },
      "execution_count": 23,
      "outputs": [
        {
          "output_type": "stream",
          "name": "stdout",
          "text": [
            "[0 1]\n"
          ]
        }
      ]
    },
    {
      "cell_type": "markdown",
      "source": [
        "Let's explain the code and its output step-by-step for someone unfamiliar with the topic\n",
        "☕\n",
        "\n"
      ],
      "metadata": {
        "id": "f2ZN_3cbd43d"
      }
    },
    {
      "cell_type": "markdown",
      "source": [
        "1. Importing Necessary Libraries\n",
        "\n",
        "\n",
        "`from sklearn import svm`\n",
        "\n",
        "This line imports the Support Vector Machine (SVM) algorithm from Scikit-Learn, which is a popular library for machine learning."
      ],
      "metadata": {
        "id": "IDOEmouheITn"
      }
    },
    {
      "cell_type": "markdown",
      "source": [
        "2. Data Preparation\n",
        "\n",
        "\n",
        "\n",
        "\n",
        "```\n",
        " X = [[1, 2], [2, 3], [3, 3], [4, 5], [5, 6]]\n",
        "y = [0, 0, 1, 1, 1]\n",
        "```\n",
        "\n",
        "\n",
        "Here, X represents our input data. Think of each inner list as a 2D point on a graph, where the first value is the x-coordinate and the second is the y-coordinate.\n",
        "\n",
        "y represents the labels (or answers) for each of those points. In this case, there are two possible labels: 0 (maybe representing \"Not spam\") and 1 (representing \"Spam\")."
      ],
      "metadata": {
        "id": "VpdCrsOKeOEl"
      }
    },
    {
      "cell_type": "markdown",
      "source": [
        "3. Creating the SVM Classifier\n",
        "\n",
        "\n",
        "`clf = svm.SVC(kernel='linear')`\n",
        "\n",
        "This line initializes an SVM classifier with a linear kernel. The kernel determines the decision boundary. In simple terms, a linear kernel will try to separate the data with a straight line."
      ],
      "metadata": {
        "id": "uanKWf2leesu"
      }
    },
    {
      "cell_type": "markdown",
      "source": [
        "4. Training the Model\n",
        "\n",
        "\n",
        "`clf.fit(X, y)`\n",
        "\n",
        "Here, we're training (or \"teaching\") the SVM classifier using our input data (X) and the corresponding labels (y). The classifier will attempt to find a decision boundary that best separates the data into the two classes, 0 and 1."
      ],
      "metadata": {
        "id": "sUyKd1h_ekQo"
      }
    },
    {
      "cell_type": "markdown",
      "source": [
        "5. Making Predictions\n",
        "\n",
        "\n",
        "`predictions = clf.predict([[2, 2], [4, 4]])`\n",
        "\n",
        "After training the model, we can use it to predict the labels of new, unseen data points. In this case, we're asking the classifier to predict the labels for the points (2, 2) and (4, 4)."
      ],
      "metadata": {
        "id": "Q1hI05agesW7"
      }
    },
    {
      "cell_type": "markdown",
      "source": [
        "6. Printing the Results\n",
        "\n",
        "\n",
        "`print(predictions)`\n",
        "\n",
        "This line will print the labels predicted by our trained model for the given points. The expected output here is [0, 1].\n",
        "\n",
        "This means:\n",
        "\n",
        "For the point (2, 2), the model predicts the label 0 (e.g., \"Not spam\").\n",
        "For the point (4, 4), the model predicts the label 1 (e.g., \"Spam\")."
      ],
      "metadata": {
        "id": "qkPzCVNUexxy"
      }
    },
    {
      "cell_type": "markdown",
      "source": [
        "In summary, using the SVM classifier from Scikit-Learn, the code trained a model on a given dataset to classify points as either 0 (Not spam) or 1 (Spam). It then made predictions on new data points and printed the results."
      ],
      "metadata": {
        "id": "L_APIV9fe7zl"
      }
    },
    {
      "cell_type": "markdown",
      "source": [
        "# 4- Unsupervised Learning\n",
        "\n",
        "Definition and Examples\n",
        "\n",
        "Clustering\n",
        "\n",
        "K-Means Clustering\n",
        "\n",
        "Hierarchical Clustering\n",
        "\n",
        "Dimensionality Reduction\n",
        "\n",
        "Principal Component Analysis (PCA)"
      ],
      "metadata": {
        "id": "KeK35XvyfKoC"
      }
    },
    {
      "cell_type": "markdown",
      "source": [
        "**Alright, let's delve into unsupervised learning, focusing on the specific areas we've mentioned. I will explain each topic and provide code examples with step-by-step explanations.**"
      ],
      "metadata": {
        "id": "fz5kKKFufb-Z"
      }
    },
    {
      "cell_type": "markdown",
      "source": [
        "Definition:\n",
        "\n",
        "**Unsupervised learning**  is a type of machine learning where the algorithm is given data without explicit labels and tries to find patterns and structures in the data on its own.\n",
        "\n",
        "Example: Think of it as giving a child a bunch of different colored toys without telling them the names of the colors, and asking them to group similar colors together. They would group them based on perceived similarities."
      ],
      "metadata": {
        "id": "S41BwJnlfhtx"
      }
    },
    {
      "cell_type": "markdown",
      "source": [
        "2. **Clustering**\n",
        "\n",
        "Clustering is a method of grouping data points such that data points in the same group are more similar to each other than to those in other groups."
      ],
      "metadata": {
        "id": "BgRGa-sYgg63"
      }
    },
    {
      "cell_type": "markdown",
      "source": [
        "**3. K-Means Clustering**\n",
        "\n",
        "K-means clustering aims to partition a set of points into K clusters, where each point belongs to the cluster with the nearest mean.\n",
        "\n",
        "Example with Code:"
      ],
      "metadata": {
        "id": "8N7z_Q4hhH5a"
      }
    },
    {
      "cell_type": "code",
      "source": [
        "from sklearn.cluster import KMeans\n",
        "import numpy as np\n",
        "\n",
        "# Sample data\n",
        "data = np.array([[1, 2], [5, 8], [1, 0.6], [9, 11], [8, 9]])\n",
        "\n",
        "# Using KMeans clustering\n",
        "kmeans = KMeans(n_clusters=2)\n",
        "kmeans.fit(data)\n",
        "\n",
        "print(kmeans.labels_)\n"
      ],
      "metadata": {
        "colab": {
          "base_uri": "https://localhost:8080/"
        },
        "id": "OlRSr-XohNlt",
        "outputId": "2a7f598b-530c-4122-cb57-c244018490e0"
      },
      "execution_count": 24,
      "outputs": [
        {
          "output_type": "stream",
          "name": "stderr",
          "text": [
            "/usr/local/lib/python3.10/dist-packages/sklearn/cluster/_kmeans.py:870: FutureWarning: The default value of `n_init` will change from 10 to 'auto' in 1.4. Set the value of `n_init` explicitly to suppress the warning\n",
            "  warnings.warn(\n"
          ]
        },
        {
          "output_type": "stream",
          "name": "stdout",
          "text": [
            "[1 0 1 0 0]\n"
          ]
        }
      ]
    },
    {
      "cell_type": "markdown",
      "source": [
        "**Explanation:**\n",
        "\n",
        "We first import the necessary modules.\n",
        "\n",
        "Our sample data consists of 2D points.\n",
        "\n",
        "We then create an instance of the KMeans classifier, specifying the number of clusters we want (2 in this case).\n",
        "\n",
        "After training, we can see which cluster each data point belongs to by printing kmeans.labels_."
      ],
      "metadata": {
        "id": "Wx28jRDNhRVa"
      }
    },
    {
      "cell_type": "markdown",
      "source": [
        "**4. Hierarchical Clustering**\n",
        "\n",
        "Hierarchical clustering builds a tree of clusters. It can be visualized using a dendrogram.\n",
        "\n",
        "Example with Code:\n",
        "\n"
      ],
      "metadata": {
        "id": "o2JOg1wGh0Ir"
      }
    },
    {
      "cell_type": "code",
      "source": [
        "from scipy.cluster.hierarchy import linkage, dendrogram\n",
        "import matplotlib.pyplot as plt\n",
        "\n",
        "# Sample data\n",
        "data = np.array([[1, 2], [5, 8], [1, 0.6], [9, 11], [8, 9]])\n",
        "\n",
        "# Hierarchical clustering\n",
        "linked = linkage(data, method='ward')\n",
        "\n",
        "# Plotting the dendrogram\n",
        "dendrogram(linked)\n",
        "plt.show()\n"
      ],
      "metadata": {
        "colab": {
          "base_uri": "https://localhost:8080/",
          "height": 434
        },
        "id": "ijvMhTerh40Y",
        "outputId": "f31def74-6bf7-4966-baf0-8be22b44e2bd"
      },
      "execution_count": 25,
      "outputs": [
        {
          "output_type": "display_data",
          "data": {
            "text/plain": [
              "<Figure size 640x480 with 1 Axes>"
            ],
            "image/png": "[encoded data removed]"
          },
          "metadata": {}
        }
      ]
    },
    {
      "cell_type": "markdown",
      "source": [
        "**Explanation:**\n",
        "\n",
        "We use the linkage method from scipy to perform hierarchical clustering.\n",
        "\n",
        "The dendrogram gives a visual representation of the sequence in which clusters were merged."
      ],
      "metadata": {
        "id": "32sDpPYHh8Jo"
      }
    },
    {
      "cell_type": "markdown",
      "source": [
        "**5. Dimensionality Reduction: Principal Component Analysis (PCA)**\n",
        "\n",
        "PCA reduces the dimensionality of data by projecting it onto a lower-dimensional space while retaining as much variance as possible.\n",
        "\n",
        "Example with Code:"
      ],
      "metadata": {
        "id": "EBrYZ062iB6S"
      }
    },
    {
      "cell_type": "code",
      "source": [
        "from sklearn.decomposition import PCA\n",
        "\n",
        "# Sample data with multiple features\n",
        "data = np.array([[2.5, 2.4], [0.5, 0.7], [2.2, 2.9], [1.9, 2.2], [3.1, 3.0]])\n",
        "\n",
        "# Apply PCA and reduce to 1 dimension\n",
        "pca = PCA(n_components=1)\n",
        "transformed_data = pca.fit_transform(data)\n",
        "\n",
        "print(transformed_data)\n"
      ],
      "metadata": {
        "colab": {
          "base_uri": "https://localhost:8080/"
        },
        "id": "aFsawkdBiFCh",
        "outputId": "83a9a118-abfa-4db5-ab60-f472806d6749"
      },
      "execution_count": 26,
      "outputs": [
        {
          "output_type": "stream",
          "name": "stdout",
          "text": [
            "[[-0.44362444]\n",
            " [ 2.17719404]\n",
            " [-0.57071239]\n",
            " [ 0.12902465]\n",
            " [-1.29188186]]\n"
          ]
        }
      ]
    },
    {
      "cell_type": "markdown",
      "source": [
        "Explanation:\n",
        "\n",
        "We're using PCA to reduce the dimensions of our sample data.\n",
        "The transformed data will have reduced dimensions (1D in this case)."
      ],
      "metadata": {
        "id": "96SMVHMTiIN6"
      }
    },
    {
      "cell_type": "markdown",
      "source": [
        "##In summary, unsupervised learning seeks patterns in data without using explicitly provided labels. Techniques like clustering group similar data points together, and dimensionality reduction techniques like PCA reduce the number of features in data while preserving as much information as possible."
      ],
      "metadata": {
        "id": "EBSAkfLJiQJB"
      }
    },
    {
      "cell_type": "markdown",
      "source": [
        "# 5- Reinforcement Learning (Brief Overview)\n",
        "\n",
        "Definition and Examples\n",
        "\n",
        "Components: Agent, Environment, Actions, States, Rewards"
      ],
      "metadata": {
        "id": "taP3YoPsif0C"
      }
    },
    {
      "cell_type": "markdown",
      "source": [
        "**Reinforcement Learning (RL)** is a type of machine learning where an agent learns to make decisions by taking actions in an environment to maximize some type of reward.\n",
        "\n",
        "**Example:**\n",
        "\n",
        "Think of a robot navigating a maze. The robot (agent) needs to find its way to the exit (goal). Every step it takes is an action, and every spot in the maze is a state. If the robot takes a step closer to the exit, it gets a positive reward. If it moves further away or hits a wall, it gets a negative reward. Over time, the robot learns the best path to the exit by trying to maximize its rewards."
      ],
      "metadata": {
        "id": "lAzm0i1Eio2b"
      }
    },
    {
      "cell_type": "markdown",
      "source": [
        "**Components of Reinforcement Learning:**\n",
        "\n",
        "**Agent:** The decision-maker or learner. It interacts with the environment, taking actions based on its policy to achieve some goal.\n",
        "\n",
        "Example: In the robot maze scenario, the robot is the agent.\n",
        "\n",
        "\n",
        "**Environment**: Everything the agent interacts with while learning. It's the external system the agent confronts.\n",
        "\n",
        "Example: The maze itself is the environment for our robot.\n",
        "\n",
        "\n",
        "**Actions (A):** The set of all possible moves the agent can make. The agent's decisions.\n",
        "\n",
        "Example: In a game of chess, every legal move at any point in the game is an action.\n",
        "\n",
        "\n",
        "**States (S):** The situations in which the agent finds itself. It's a snapshot of the environment at a particular point in time.\n",
        "\n",
        "Example: Every spot in the maze where the robot can be located is a state.\n",
        "\n",
        "\n",
        "**Rewards (R):** Feedback from the environment. It can be positive (like a reward for making a good decision) or negative (like a penalty for making a bad decision). The agent's objective is to maximize the cumulative reward over time.\n",
        "\n",
        "\n",
        "Example: The robot receives a positive reward when it gets closer to the exit and a negative reward if it moves away or hits a wall."
      ],
      "metadata": {
        "id": "p9xNDOuujLrs"
      }
    },
    {
      "cell_type": "markdown",
      "source": [
        "**Brief Code Illustration:**\n",
        "\n",
        "Although reinforcement learning typically requires more advanced setups, like deep learning frameworks, we'll provide a conceptual pseudo-code to clarify the components:"
      ],
      "metadata": {
        "id": "12ikEhC6jljD"
      }
    },
    {
      "cell_type": "code",
      "source": [
        "import random\n",
        "\n",
        "class Environment:\n",
        "    def __init__(self):\n",
        "        self.position = 0  # Starting position\n",
        "        self.goal_position = 10\n",
        "\n",
        "    def give_reward(self):\n",
        "        \"\"\"Return a reward based on agent's position.\"\"\"\n",
        "        if self.position == self.goal_position:\n",
        "            return 1\n",
        "        else:\n",
        "            return -1\n",
        "\n",
        "    def move(self, step):\n",
        "        \"\"\"Move the position based on agent's action.\"\"\"\n",
        "        self.position += step\n",
        "        self.position = max(0, self.position)  # Ensure position isn't negative\n",
        "\n",
        "    def is_goal_reached(self):\n",
        "        return self.position == self.goal_position\n",
        "\n",
        "class Agent:\n",
        "    def __init__(self):\n",
        "        self.policy = {i: (1 if random.random() > 0.5 else -1) for i in range(11)}  # Random initial policy\n",
        "\n",
        "    def choose_action(self, position):\n",
        "        \"\"\"Decide to move forward or backward.\"\"\"\n",
        "        return self.policy[position]\n",
        "\n",
        "    def update_policy(self, reward, position):\n",
        "        \"\"\"If the reward is negative, change the action.\"\"\"\n",
        "        if reward < 0:\n",
        "            self.policy[position] = -self.policy[position]\n",
        "\n",
        "# Simulation loop\n",
        "env = Environment()\n",
        "agent = Agent()\n",
        "\n",
        "while not env.is_goal_reached():\n",
        "    action = agent.choose_action(env.position)\n",
        "    env.move(action)\n",
        "    reward = env.give_reward()\n",
        "    agent.update_policy(reward, env.position)\n",
        "    print(f\"Position: {env.position}, Action: {action}, Reward: {reward}\")\n",
        "\n",
        "print(\"Goal reached!\")\n",
        "\n"
      ],
      "metadata": {
        "colab": {
          "base_uri": "https://localhost:8080/"
        },
        "id": "3H_tvHiVlNgT",
        "outputId": "195f63e0-ec87-4c0c-a7b3-d07da7f27a33"
      },
      "execution_count": 30,
      "outputs": [
        {
          "output_type": "stream",
          "name": "stdout",
          "text": [
            "Position: 1, Action: 1, Reward: -1\n",
            "Position: 0, Action: -1, Reward: -1\n",
            "Position: 0, Action: -1, Reward: -1\n",
            "Position: 1, Action: 1, Reward: -1\n",
            "Position: 2, Action: 1, Reward: -1\n",
            "Position: 1, Action: -1, Reward: -1\n",
            "Position: 0, Action: -1, Reward: -1\n",
            "Position: 0, Action: -1, Reward: -1\n",
            "Position: 1, Action: 1, Reward: -1\n",
            "Position: 2, Action: 1, Reward: -1\n",
            "Position: 3, Action: 1, Reward: -1\n",
            "Position: 4, Action: 1, Reward: -1\n",
            "Position: 3, Action: -1, Reward: -1\n",
            "Position: 2, Action: -1, Reward: -1\n",
            "Position: 1, Action: -1, Reward: -1\n",
            "Position: 0, Action: -1, Reward: -1\n",
            "Position: 0, Action: -1, Reward: -1\n",
            "Position: 1, Action: 1, Reward: -1\n",
            "Position: 2, Action: 1, Reward: -1\n",
            "Position: 3, Action: 1, Reward: -1\n",
            "Position: 4, Action: 1, Reward: -1\n",
            "Position: 5, Action: 1, Reward: -1\n",
            "Position: 6, Action: 1, Reward: -1\n",
            "Position: 5, Action: -1, Reward: -1\n",
            "Position: 4, Action: -1, Reward: -1\n",
            "Position: 3, Action: -1, Reward: -1\n",
            "Position: 2, Action: -1, Reward: -1\n",
            "Position: 1, Action: -1, Reward: -1\n",
            "Position: 0, Action: -1, Reward: -1\n",
            "Position: 0, Action: -1, Reward: -1\n",
            "Position: 1, Action: 1, Reward: -1\n",
            "Position: 2, Action: 1, Reward: -1\n",
            "Position: 3, Action: 1, Reward: -1\n",
            "Position: 4, Action: 1, Reward: -1\n",
            "Position: 5, Action: 1, Reward: -1\n",
            "Position: 6, Action: 1, Reward: -1\n",
            "Position: 7, Action: 1, Reward: -1\n",
            "Position: 8, Action: 1, Reward: -1\n",
            "Position: 9, Action: 1, Reward: -1\n",
            "Position: 10, Action: 1, Reward: 1\n",
            "Goal reached!\n"
          ]
        }
      ]
    },
    {
      "cell_type": "markdown",
      "source": [
        "In this simulation, an agent starts at position 0 and aims to reach position 10. With each step, the agent either increases by 1 or decreases by 1. If it reaches 10, it receives a reward of 1. If it moves away from 10, it receives a penalty of -1. This simple simulation can demonstrate a basic approach to reinforcement learning.\n",
        "\n",
        "In this code, the goal of the agent is to reach position 10. Initially, the agent has a movement policy, but if this movement takes it away from its target, it reverses its action. This approach serves as an example of a basic trial-and-error reinforcement learning strategy."
      ],
      "metadata": {
        "id": "4KK7T_9Bly5f"
      }
    },
    {
      "cell_type": "markdown",
      "source": [
        "The output details the journey of the agent as it tries to navigate to its goal, which is position 10.\n",
        "\n",
        "Position: This indicates the current position of the agent.\n",
        "\n",
        "Action: This shows the action taken by the agent. A \"1\" means the agent has moved one step forward, and a \"-1\" means it has taken a step backward.\n",
        "\n",
        "Reward: This represents the reward the agent received after taking its action. A \"-1\" indicates a penalty for moving away from the goal, while a \"1\" signifies a reward for reaching the goal.\n",
        "\n",
        "Let's take a closer look at the progression:\n",
        "\n",
        "At the start, the agent begins at Position 0.\n",
        "As the agent progresses, we can see it moves back and forth as it figures out the best way to reach the goal. This back-and-forth movement is characteristic of trial-and-error learning, where the agent is learning from its mistakes.\n",
        "The agent sometimes moves backward from the starting position, and sometimes it moves forward. Each time it moves away from its target position of 10, it gets a reward of \"-1\", meaning a penalty.\n",
        "As the agent continues to try different actions, it begins to move in the correct direction more consistently, receiving a series of \"-1\" rewards until it gets closer to the target.\n",
        "Finally, when the agent reaches Position 10, it is given a reward of \"1\", indicating that it successfully reached its goal. The output then confirms this with the message \"Goal reached!\"\n",
        "This simple simulation and output provide a basic illustration of how reinforcement learning operates. The agent starts with little knowledge of how to achieve its goal but, through trial and error, gradually figures out the optimal actions to take."
      ],
      "metadata": {
        "id": "1s7Nd12lmNAP"
      }
    },
    {
      "cell_type": "markdown",
      "source": [
        "# 6- Evaluating ML Models\n",
        "\n",
        "Loss Functions\n",
        "\n",
        "Accuracy, Precision, Recall, F1-score\n",
        "\n",
        "Overfitting and Underfitting\n",
        "\n",
        "Cross-Validation"
      ],
      "metadata": {
        "id": "_f6ISyPtmonX"
      }
    },
    {
      "cell_type": "markdown",
      "source": [
        "##Let's delve into each topic in \"Evaluating ML Models\", and I'll provide a step-by-step explanation with sample code snippets.☕\n",
        "\n"
      ],
      "metadata": {
        "id": "HKKqrCRTmyYC"
      }
    },
    {
      "cell_type": "markdown",
      "source": [
        "**1. Loss Functions**\n",
        "Loss functions measure the difference between the predicted values and the actual values. It's a way of quantifying how well our algorithm is performing.\n",
        "\n",
        "Example: Mean Squared Error (MSE) for Regression"
      ],
      "metadata": {
        "id": "2xPInJu7m9YC"
      }
    },
    {
      "cell_type": "code",
      "source": [
        "from sklearn.metrics import mean_squared_error\n",
        "\n",
        "y_true = [3, -0.5, 2, 7]\n",
        "y_pred = [2.5, 0.0, 2, 8]\n",
        "\n",
        "mse = mean_squared_error(y_true, y_pred)\n",
        "print(f\"Mean Squared Error: {mse}\")\n"
      ],
      "metadata": {
        "colab": {
          "base_uri": "https://localhost:8080/"
        },
        "id": "VixrMCIfnAwJ",
        "outputId": "d76407dd-8360-479f-ec64-7a082fdd4808"
      },
      "execution_count": 31,
      "outputs": [
        {
          "output_type": "stream",
          "name": "stdout",
          "text": [
            "Mean Squared Error: 0.375\n"
          ]
        }
      ]
    },
    {
      "cell_type": "markdown",
      "source": [
        "\n",
        "**Explanation:**\n",
        "Importing a Tool:\n",
        "We're bringing in a tool named mean_squared_error from a toolbox called sklearn.metrics. This tool helps us find out how close our predictions are to the actual values.\n",
        "\n",
        "Data:\n",
        "\n",
        "y_true: These are the real values that we know are correct.\n",
        "y_pred: These are values guessed by a model or some method.\n",
        "Mean Squared Error (MSE):\n",
        "This is a way to measure the difference between our actual values and our predicted values. It's like finding out the average mistake made by our predictions.\n",
        "\n",
        "Computing MSE for our data:\n",
        "\n",
        "For our given data:\n",
        "\n",
        "The first difference is: 3 minus 2.5, which is 0.5.\n",
        "The second difference is: -0.5 minus 0.0, which is -0.5.\n",
        "The third difference is: 2 minus 2, which is 0.\n",
        "The fourth difference is: 7 minus 8, which is -1.\n",
        "If you square these differences and then take an average, you get 0.375. The squaring is done to make sure all differences are positive and to give more weight to larger mistakes.\n",
        "\n",
        "Output:\n",
        "So, the result of our calculation is that on average, our predictions were off by a value of 0.375 (keeping in mind that this is an average of squared differences).\n",
        "\n",
        "In summary, the MSE tells us how good or bad our predictions are, with a smaller number meaning our guesses were better!\n",
        "\n",
        "\n",
        "\n"
      ],
      "metadata": {
        "id": "D0GBeeDGnPqP"
      }
    },
    {
      "cell_type": "markdown",
      "source": [
        "**2. Accuracy, Precision, Recall, F1-score**\n",
        "\n",
        "These are metrics used for evaluating classification models.\n",
        "\n",
        "**Accuracy:** Total number of correct predictions / Total number of predictions\n",
        "\n",
        "**Precision:** True Positives / (True Positives + False Positives)\n",
        "\n",
        "**Recall (Sensitivity):** True Positives / (True Positives + False Negatives)\n",
        "\n",
        "**F1-score:** 2 * (Precision * Recall) / (Precision + Recall)\n",
        "\n",
        "\n",
        "Example:"
      ],
      "metadata": {
        "id": "49kQM0npoQOE"
      }
    },
    {
      "cell_type": "code",
      "source": [
        "from sklearn.metrics import accuracy_score, precision_score, recall_score, f1_score\n",
        "\n",
        "y_true = [0, 1, 2, 2]\n",
        "y_pred = [0, 2, 2, 2]\n",
        "\n",
        "print(f\"Accuracy: {accuracy_score(y_true, y_pred)}\")\n",
        "print(f\"Precision: {precision_score(y_true, y_pred, average='macro')}\")\n",
        "print(f\"Recall: {recall_score(y_true, y_pred, average='macro')}\")\n",
        "print(f\"F1 Score: {f1_score(y_true, y_pred, average='macro')}\")\n"
      ],
      "metadata": {
        "colab": {
          "base_uri": "https://localhost:8080/"
        },
        "id": "t2WRJ-Mcocvf",
        "outputId": "57e5d06c-5999-40e9-9c5e-f761ed240d13"
      },
      "execution_count": 32,
      "outputs": [
        {
          "output_type": "stream",
          "name": "stdout",
          "text": [
            "Accuracy: 0.75\n",
            "Precision: 0.5555555555555555\n",
            "Recall: 0.6666666666666666\n",
            "F1 Score: 0.6\n"
          ]
        },
        {
          "output_type": "stream",
          "name": "stderr",
          "text": [
            "/usr/local/lib/python3.10/dist-packages/sklearn/metrics/_classification.py:1344: UndefinedMetricWarning: Precision is ill-defined and being set to 0.0 in labels with no predicted samples. Use `zero_division` parameter to control this behavior.\n",
            "  _warn_prf(average, modifier, msg_start, len(result))\n"
          ]
        }
      ]
    },
    {
      "cell_type": "markdown",
      "source": [
        "**3. Overfitting and Underfitting**\n",
        "\n",
        "Overfitting occurs when a model learns the training data too closely, including its noise and outliers. It performs well on training data but poorly on new, unseen data.\n",
        "Underfitting occurs when a model is too simplistic to capture the patterns in the training data.\n",
        "\n",
        "Visual Example:\n",
        "You might visualize overfitting as a very wiggly line through data points, while underfitting might be visualized as a straight line through a curve of data points."
      ],
      "metadata": {
        "id": "aPamsfA9oh1V"
      }
    },
    {
      "cell_type": "markdown",
      "source": [
        "**4. Cross-Validation**\n",
        "\n",
        "Cross-validation is a technique to evaluate predictive models by partitioning the original sample into a training set to train the model, and a test set to evaluate it.\n",
        "\n",
        "Example: k-Fold Cross Validation"
      ],
      "metadata": {
        "id": "hTdxp6-eoqc2"
      }
    },
    {
      "cell_type": "code",
      "source": [
        "from sklearn.model_selection import cross_val_score\n",
        "from sklearn.ensemble import RandomForestClassifier\n",
        "\n",
        "# Sample dataset\n",
        "X, y = [[1,2],[3,4],[5,6],[7,8],[9,10]], [0,1,0,1,0]\n",
        "\n",
        "clf = RandomForestClassifier()\n",
        "\n",
        "# 5-fold cross validation\n",
        "scores = cross_val_score(clf, X, y, cv=2)\n",
        "\n",
        "\n",
        "print(f\"Cross-Validation Scores: {scores}\")\n",
        "print(f\"Mean Score: {scores.mean()}\")\n"
      ],
      "metadata": {
        "colab": {
          "base_uri": "https://localhost:8080/"
        },
        "id": "we6Mg3JZovVA",
        "outputId": "832685c4-5f6d-4e26-fd53-5c37d8727c84"
      },
      "execution_count": 34,
      "outputs": [
        {
          "output_type": "stream",
          "name": "stdout",
          "text": [
            "Cross-Validation Scores: [0.33333333 0.5       ]\n",
            "Mean Score: 0.41666666666666663\n"
          ]
        }
      ]
    },
    {
      "cell_type": "markdown",
      "source": [
        "Let's break down the output:\n",
        "\n",
        "Cross-Validation Scores: [0.33333333 0.5]\n",
        "\n",
        "This indicates the scores (in this case, accuracy) of the model on the two separate subsets (folds) of the data. Remember, you divided your data into two parts (2-fold cross-validation):\n",
        "\n",
        "For the first fold (or split), the model achieved an accuracy of approximately 33.33% (or 0.33333333 when expressed as a decimal).\n",
        "For the second fold, the model achieved an accuracy of 50% (or 0.5 when expressed as a decimal).\n",
        "Mean Score: 0.41666666666666663\n",
        "\n",
        "This is the average of the two cross-validation scores. It provides a summary measure of how well the model performed across both folds. So, on average, the model's accuracy across both splits of the data was approximately 41.67%.\n",
        "\n",
        "In simple terms, the model's performance wasn't particularly high on this small dataset, achieving only around 41.67% accuracy on average across the two validation sets."
      ],
      "metadata": {
        "id": "egdQNL7CpUDZ"
      }
    },
    {
      "cell_type": "markdown",
      "source": [
        "##When evaluating ML models, it's crucial to not just rely on a single metric. It's essential to consider multiple metrics and also visualize your results when possible to get a holistic understanding of your model's performance."
      ],
      "metadata": {
        "id": "WTL19xnppffC"
      }
    },
    {
      "cell_type": "markdown",
      "source": [
        "☕"
      ],
      "metadata": {
        "id": "DMQ5boDGppAh"
      }
    },
    {
      "cell_type": "markdown",
      "source": [
        "# 7- Optimizing ML Models\n",
        "\n",
        "Gradient Descent\n",
        "\n",
        "Hyperparameter Tuning\n",
        "\n",
        "Regularization\n"
      ],
      "metadata": {
        "id": "UpXh2g1IppcY"
      }
    },
    {
      "cell_type": "markdown",
      "source": [
        "Once you've constructed a machine learning model, the next step is to optimize its performance. This process often involves tuning and refining the model to achieve the best results on unseen data. Let's break down three primary methods for optimizing machine learning models."
      ],
      "metadata": {
        "id": "zNVdBVrip8EA"
      }
    },
    {
      "cell_type": "markdown",
      "source": [
        "**1. Gradient Descent**\n",
        "\n",
        "Definition:\n",
        "\n",
        "Gradient Descent is an optimization algorithm that's used to minimize the cost function in machine learning models. It's an iterative approach to find the minimum of a function.\n",
        "\n",
        "\n",
        "Explanation:\n",
        "\n",
        "Imagine you're on a hill, and you want to get to the bottom. You decide to take steps in the direction of the steepest slope. With each step, you reevaluate and again move in the direction of the steepest descent. This is similar to how gradient descent optimizes a function."
      ],
      "metadata": {
        "id": "b_C7wLBWp_t6"
      }
    },
    {
      "cell_type": "markdown",
      "source": [
        "Example:"
      ],
      "metadata": {
        "id": "Qwq7lEkvqHYi"
      }
    },
    {
      "cell_type": "code",
      "source": [
        "import numpy as np\n",
        "\n",
        "# Simple function: f(x) = x^2\n",
        "def function(x):\n",
        "    return x**2\n",
        "\n",
        "# Derivative: f'(x) = 2x\n",
        "def gradient(x):\n",
        "    return 2*x\n",
        "\n",
        "# Gradient Descent\n",
        "learning_rate = 0.1\n",
        "x = np.random.uniform(-10, 10)  # Start at a random point\n",
        "for _ in range(100):  # 100 iterations\n",
        "    x = x - learning_rate * gradient(x)\n",
        "\n",
        "print(f\"Minimum at x = {x}\")\n"
      ],
      "metadata": {
        "colab": {
          "base_uri": "https://localhost:8080/"
        },
        "id": "FUOZII1zqI4U",
        "outputId": "058ba5a2-746d-4272-ee83-6cd7e41d3714"
      },
      "execution_count": 35,
      "outputs": [
        {
          "output_type": "stream",
          "name": "stdout",
          "text": [
            "Minimum at x = -1.1342244203578667e-09\n"
          ]
        }
      ]
    },
    {
      "cell_type": "markdown",
      "source": [
        "**Alright, let's simplify and  break it down:**\n",
        "#☕\n",
        "\n",
        "What the Code Does:\n",
        "The code is trying to find the lowest point of a curve that looks like a U (called a parabola).\n",
        "\n",
        "How It Works:\n",
        "\n",
        "We pick a random starting point.\n",
        "From this point, we either move left or right, trying to go downwards. We do this by checking the slope at our current position. If the slope is going up, we move left; if it's going down, we move right.\n",
        "We repeat this process for a set number of times (in this case, 100 times) to ensure we get close to the bottom.\n",
        "Output Explanation:\n",
        "The result says Minimum at x = -1.1342244203578667e-09, which is a fancy way of saying we are super close to the bottom, which is at the center of the U shape. The number is practically zero for all intents and purposes.\n",
        "\n",
        "In simple terms, the code worked as expected and found the lowest point of the curve."
      ],
      "metadata": {
        "id": "NkUiqnF0qg_y"
      }
    },
    {
      "cell_type": "markdown",
      "source": [
        "**2. Hyperparameter Tuning**\n",
        "\n",
        "Definition:\n",
        "Hyperparameters are parameters that are set before the learning process begins. They are not learned from data. Hyperparameter tuning is the process of finding the best hyperparameters that produce the optimal model.\n",
        "\n",
        "\n",
        "Explanation:\n",
        "\n",
        "Consider a chef trying different amounts of ingredients to make the perfect dish. The chef doesn't change the cooking method, only the ingredient amounts. Similarly, in machine learning, we adjust hyperparameters to get the best model.\n",
        "\n",
        "Example:\n",
        "\n",
        "Using Grid Search for hyperparameter tuning with Scikit-Learn:"
      ],
      "metadata": {
        "id": "CGIBxQYBq_3O"
      }
    },
    {
      "cell_type": "code",
      "source": [
        "from sklearn.model_selection import GridSearchCV, StratifiedKFold\n",
        "from sklearn.ensemble import RandomForestClassifier\n",
        "\n",
        "param_grid = {\n",
        "    'n_estimators': [50, 100, 200],\n",
        "    'max_depth': [None, 10, 20, 30],\n",
        "    'min_samples_split': [2, 5, 10]\n",
        "}\n",
        "\n",
        "clf = RandomForestClassifier()\n",
        "stratified_kfold = StratifiedKFold(n_splits=2)  # Change this to 2\n",
        "grid_search = GridSearchCV(clf, param_grid, cv=stratified_kfold)\n",
        "grid_search.fit(X, y)\n",
        "\n",
        "print(f\"Best parameters: {grid_search.best_params_}\")\n",
        "\n"
      ],
      "metadata": {
        "colab": {
          "base_uri": "https://localhost:8080/"
        },
        "id": "QW_tvMRWrE3b",
        "outputId": "76170192-6013-4238-f6af-de5fb2b4742c"
      },
      "execution_count": 38,
      "outputs": [
        {
          "output_type": "stream",
          "name": "stdout",
          "text": [
            "Best parameters: {'max_depth': 10, 'min_samples_split': 5, 'n_estimators': 100}\n"
          ]
        }
      ]
    },
    {
      "cell_type": "markdown",
      "source": [
        "**let's simplify and break it down:**"
      ],
      "metadata": {
        "id": "FbU2gyaAr4Db"
      }
    },
    {
      "cell_type": "markdown",
      "source": [
        "The output indicates the best combination of hyperparameters for the RandomForestClassifier based on your small dataset:\n",
        "\n",
        "'max_depth': 10: The best performing trees in the random forest have a maximum depth of 10. This means that, from the root of a tree to its furthest leaf, there can be at most 10 splits or decisions made.\n",
        "\n",
        "'min_samples_split': 5: Before considering a split at any node during the construction of the trees, there should be at least 5 samples in that node. If there are fewer than 5 samples, the node won't be split further.\n",
        "\n",
        "'n_estimators': 100: The optimal random forest model, for this data, consists of 100 individual decision trees.\n",
        "\n",
        "These parameters provided the best performance (usually in terms of prediction accuracy) on your dataset during the cross-validation process performed by GridSearchCV. Keep in mind, though, given the small size of your dataset, these results may not be very reliable for broader applications."
      ],
      "metadata": {
        "id": "uIzxKUMArzv5"
      }
    },
    {
      "cell_type": "markdown",
      "source": [
        "**3. Regularization**\n",
        "\n",
        "Definition:\n",
        "Regularization is a technique used to prevent overfitting by adding a penalty to the loss function. This discourages overly complex models which can fit the noise in the training data.\n",
        "\n",
        "Explanation:\n",
        "\n",
        "Imagine you're trying to draw a line that fits a set of points. Without regularization, you might end up with a wiggly line that passes through every point. With regularization, you encourage the line to be smoother and simpler, even if it doesn't pass through every point perfectly.\n",
        "\n",
        "Example:\n",
        "\n",
        "Using L2 regularization with Scikit-Learn's Ridge regression:"
      ],
      "metadata": {
        "id": "VpyQdcLQsBIb"
      }
    },
    {
      "cell_type": "code",
      "source": [
        "from sklearn.linear_model import Ridge\n",
        "\n",
        "# Alpha is the regularization strength\n",
        "clf = Ridge(alpha=1.0)\n",
        "clf.fit(X, y)\n",
        "\n",
        "predictions = clf.predict(X_test)\n"
      ],
      "metadata": {
        "colab": {
          "base_uri": "https://localhost:8080/"
        },
        "id": "b42NBAPasO05",
        "outputId": "34226d91-12be-4ee9-fe84-46e10b745e55"
      },
      "execution_count": 39,
      "outputs": [
        {
          "output_type": "stream",
          "name": "stderr",
          "text": [
            "/usr/local/lib/python3.10/dist-packages/sklearn/base.py:432: UserWarning: X has feature names, but Ridge was fitted without feature names\n",
            "  warnings.warn(\n"
          ]
        }
      ]
    },
    {
      "cell_type": "markdown",
      "source": [
        "By optimizing through methods like gradient descent, tuning hyperparameters, and employing regularization, you refine your machine learning model to ensure it not only fits your training data well but also generalizes effectively to unseen data."
      ],
      "metadata": {
        "id": "slvXpp0OsTA9"
      }
    },
    {
      "cell_type": "markdown",
      "source": [
        "# 8-Neural Networks and Deep Learning (Brief Overview)\n",
        "\n",
        "Introduction to Neural Networks\n",
        "\n",
        "Activation Functions\n",
        "\n",
        "Deep Learning and Convolutional Neural Networks (CNN)"
      ],
      "metadata": {
        "id": "ln5Frt0vsjoc"
      }
    },
    {
      "cell_type": "markdown",
      "source": [
        "**Introduction to Neural Networks**\n",
        "\n",
        "Neural Networks are computational models inspired by how the human brain works. They are the backbone of deep learning, a subfield of machine learning, and have been responsible for many recent advancements in areas like image recognition, natural language processing, and game playing.\n",
        "\n",
        "\n",
        "At a high level, a neural network is made up of layers of nodes (often called \"neurons\" or \"units\"). Data enters from the input layer, and it then gets transformed and passed through one or more \"hidden layers\" until it reaches the output layer. The transformations are governed by weights and biases, which are adjusted during training."
      ],
      "metadata": {
        "id": "8AwjxIR0sw4p"
      }
    },
    {
      "cell_type": "markdown",
      "source": [
        "**Activation Functions**\n",
        "\n",
        "Activation functions introduce non-linearity into the neural network, allowing it to learn complex patterns and make decisions. Without them, neural networks would behave just like linear regression models. Some common activation functions include:\n",
        "\n",
        "\n",
        "**Sigmoid:** It squashes values between 0 and 1. Historically popular but now less common due to some of its properties, like vanishing gradient problem.\n",
        "\n",
        "\n",
        "**ReLU (Rectified Linear Unit):** It returns x for all values of x > 0 and returns 0 for all values of x ≤ 0. It's currently the most widely used activation function in deep learning models because of its efficiency and performance.\n",
        "\n",
        "\n",
        "**Tanh:** Similar to sigmoid but squashes values between -1 and 1. It is zero-centered, making it slightly preferred over the sigmoid.\n",
        "\n",
        "\n",
        "**Softmax:** Often used in the output layer of a classifier to represent probability distributions of multiple classes."
      ],
      "metadata": {
        "id": "Za4NPLrHs2hG"
      }
    },
    {
      "cell_type": "markdown",
      "source": [
        "**Deep Learning and Convolutional Neural Networks (CNN)**\n",
        "\n",
        "Deep Learning refers to the use of deep neural networks, meaning networks with a large number of layers. These deep networks are capable of learning very complex features from data, making them highly efficient for tasks like image and speech recognition.\n",
        "\n",
        "Convolutional Neural Networks (CNN) are a type of deep learning model primarily used for tasks like image classification. They are designed to automatically and adaptively learn spatial hierarchies of features from images. A CNN is composed of one or more convolutional layers, often followed by pooling layers, and then one or more fully connected layers. The convolutional layers are designed to recognize patterns in small parts of the input image, pooling layers reduce the dimensions of the data, and the fully connected layers then make a decision based on the recognized patterns.\n",
        "\n",
        "CNNs have achieved state-of-the-art performance in various tasks in computer vision, leading to significant advancements in this field. They've played a major role in the re-emergence and growing popularity of deep learning."
      ],
      "metadata": {
        "id": "yGLp-NZdtJZt"
      }
    },
    {
      "cell_type": "markdown",
      "source": [
        "# Example:"
      ],
      "metadata": {
        "id": "yM51-yeot0wO"
      }
    },
    {
      "cell_type": "markdown",
      "source": [
        "Here's a step-by-step guide on how to create a simple artificial neural network that predicts whether a given number is greater than 5:"
      ],
      "metadata": {
        "id": "IBsONkdUtx-4"
      }
    },
    {
      "cell_type": "markdown",
      "source": [
        "Example with a Simple Artificial Neural Network\n",
        "\n",
        "This network will take numbers as input and predict if the number is greater than 5 or not.\n",
        "\n",
        "This will be a simple classification problem:\n",
        "\n",
        "If the number is less than or equal to 5, the network should output 0.\n",
        "If the number is greater than 5, the network should output 1.\n",
        "1. Data Preparation:\n",
        "\n",
        "First, let's create some sample data for training:"
      ],
      "metadata": {
        "id": "jkygY6Rxt6sp"
      }
    },
    {
      "cell_type": "code",
      "source": [
        "import numpy as np\n",
        "\n",
        "# Sample data\n",
        "X = np.array([[1], [3], [4], [6], [9], [10]])\n",
        "y = np.array([[0], [0], [0], [1], [1], [1]])\n"
      ],
      "metadata": {
        "id": "NujZrhKZt9Z9"
      },
      "execution_count": 40,
      "outputs": []
    },
    {
      "cell_type": "markdown",
      "source": [
        "2. Building the Artificial Neural Network Model:\n",
        "\n",
        "Let's create a simple neural network:"
      ],
      "metadata": {
        "id": "LX4kQ5iHuAS0"
      }
    },
    {
      "cell_type": "code",
      "source": [
        "from keras.models import Sequential\n",
        "from keras.layers import Dense\n",
        "\n",
        "model = Sequential()\n",
        "model.add(Dense(10, input_dim=1, activation='relu'))\n",
        "model.add(Dense(1, activation='sigmoid'))\n"
      ],
      "metadata": {
        "id": "14Ja30VYuCJg"
      },
      "execution_count": 41,
      "outputs": []
    },
    {
      "cell_type": "markdown",
      "source": [
        "3. Compiling and Training the Model:"
      ],
      "metadata": {
        "id": "Go4LUP-juGXZ"
      }
    },
    {
      "cell_type": "code",
      "source": [
        "model.compile(loss='binary_crossentropy', optimizer='adam', metrics=['accuracy'])\n",
        "model.fit(X, y, epochs=100, batch_size=1)\n"
      ],
      "metadata": {
        "colab": {
          "base_uri": "https://localhost:8080/"
        },
        "id": "qwboMw5xuIm8",
        "outputId": "fdea9805-efc8-4d56-88c8-5c1e80d1323b"
      },
      "execution_count": 42,
      "outputs": [
        {
          "output_type": "stream",
          "name": "stdout",
          "text": [
            "Epoch 1/100\n",
            "6/6 [==============================] - 2s 10ms/step - loss: 0.7213 - accuracy: 0.5000\n",
            "Epoch 2/100\n",
            "6/6 [==============================] - 0s 13ms/step - loss: 0.7092 - accuracy: 0.5000\n",
            "Epoch 3/100\n",
            "6/6 [==============================] - 0s 10ms/step - loss: 0.6999 - accuracy: 0.5000\n",
            "Epoch 4/100\n",
            "6/6 [==============================] - 0s 5ms/step - loss: 0.6859 - accuracy: 0.5000\n",
            "Epoch 5/100\n",
            "6/6 [==============================] - 0s 4ms/step - loss: 0.6803 - accuracy: 0.5000\n",
            "Epoch 6/100\n",
            "6/6 [==============================] - 0s 4ms/step - loss: 0.6678 - accuracy: 0.5000\n",
            "Epoch 7/100\n",
            "6/6 [==============================] - 0s 6ms/step - loss: 0.6578 - accuracy: 0.5000\n",
            "Epoch 8/100\n",
            "6/6 [==============================] - 0s 7ms/step - loss: 0.6500 - accuracy: 0.5000\n",
            "Epoch 9/100\n",
            "6/6 [==============================] - 0s 13ms/step - loss: 0.6451 - accuracy: 0.5000\n",
            "Epoch 10/100\n",
            "6/6 [==============================] - 0s 4ms/step - loss: 0.6362 - accuracy: 0.5000\n",
            "Epoch 11/100\n",
            "6/6 [==============================] - 0s 7ms/step - loss: 0.6272 - accuracy: 0.5000\n",
            "Epoch 12/100\n",
            "6/6 [==============================] - 0s 5ms/step - loss: 0.6203 - accuracy: 0.5000\n",
            "Epoch 13/100\n",
            "6/6 [==============================] - 0s 4ms/step - loss: 0.6140 - accuracy: 0.5000\n",
            "Epoch 14/100\n",
            "6/6 [==============================] - 0s 7ms/step - loss: 0.6085 - accuracy: 0.5000\n",
            "Epoch 15/100\n",
            "6/6 [==============================] - 0s 6ms/step - loss: 0.6031 - accuracy: 0.5000\n",
            "Epoch 16/100\n",
            "6/6 [==============================] - 0s 5ms/step - loss: 0.5970 - accuracy: 0.5000\n",
            "Epoch 17/100\n",
            "6/6 [==============================] - 0s 5ms/step - loss: 0.5911 - accuracy: 0.5000\n",
            "Epoch 18/100\n",
            "6/6 [==============================] - 0s 5ms/step - loss: 0.5880 - accuracy: 0.5000\n",
            "Epoch 19/100\n",
            "6/6 [==============================] - 0s 5ms/step - loss: 0.5822 - accuracy: 0.5000\n",
            "Epoch 20/100\n",
            "6/6 [==============================] - 0s 5ms/step - loss: 0.5797 - accuracy: 0.5000\n",
            "Epoch 21/100\n",
            "6/6 [==============================] - 0s 5ms/step - loss: 0.5754 - accuracy: 0.5000\n",
            "Epoch 22/100\n",
            "6/6 [==============================] - 0s 4ms/step - loss: 0.5708 - accuracy: 0.5000\n",
            "Epoch 23/100\n",
            "6/6 [==============================] - 0s 7ms/step - loss: 0.5681 - accuracy: 0.5000\n",
            "Epoch 24/100\n",
            "6/6 [==============================] - 0s 5ms/step - loss: 0.5654 - accuracy: 0.5000\n",
            "Epoch 25/100\n",
            "6/6 [==============================] - 0s 4ms/step - loss: 0.5629 - accuracy: 0.5000\n",
            "Epoch 26/100\n",
            "6/6 [==============================] - 0s 4ms/step - loss: 0.5588 - accuracy: 0.5000\n",
            "Epoch 27/100\n",
            "6/6 [==============================] - 0s 4ms/step - loss: 0.5566 - accuracy: 0.5000\n",
            "Epoch 28/100\n",
            "6/6 [==============================] - 0s 9ms/step - loss: 0.5564 - accuracy: 0.5000\n",
            "Epoch 29/100\n",
            "6/6 [==============================] - 0s 7ms/step - loss: 0.5526 - accuracy: 0.5000\n",
            "Epoch 30/100\n",
            "6/6 [==============================] - 0s 6ms/step - loss: 0.5503 - accuracy: 0.5000\n",
            "Epoch 31/100\n",
            "6/6 [==============================] - 0s 4ms/step - loss: 0.5499 - accuracy: 0.5000\n",
            "Epoch 32/100\n",
            "6/6 [==============================] - 0s 12ms/step - loss: 0.5464 - accuracy: 0.6667\n",
            "Epoch 33/100\n",
            "6/6 [==============================] - 0s 10ms/step - loss: 0.5451 - accuracy: 0.6667\n",
            "Epoch 34/100\n",
            "6/6 [==============================] - 0s 7ms/step - loss: 0.5430 - accuracy: 0.6667\n",
            "Epoch 35/100\n",
            "6/6 [==============================] - 0s 6ms/step - loss: 0.5421 - accuracy: 0.6667\n",
            "Epoch 36/100\n",
            "6/6 [==============================] - 0s 7ms/step - loss: 0.5404 - accuracy: 0.6667\n",
            "Epoch 37/100\n",
            "6/6 [==============================] - 0s 4ms/step - loss: 0.5415 - accuracy: 0.6667\n",
            "Epoch 38/100\n",
            "6/6 [==============================] - 0s 14ms/step - loss: 0.5374 - accuracy: 0.6667\n",
            "Epoch 39/100\n",
            "6/6 [==============================] - 0s 14ms/step - loss: 0.5386 - accuracy: 0.6667\n",
            "Epoch 40/100\n",
            "6/6 [==============================] - 0s 10ms/step - loss: 0.5350 - accuracy: 0.6667\n",
            "Epoch 41/100\n",
            "6/6 [==============================] - 0s 7ms/step - loss: 0.5341 - accuracy: 0.6667\n",
            "Epoch 42/100\n",
            "6/6 [==============================] - 0s 4ms/step - loss: 0.5328 - accuracy: 0.6667\n",
            "Epoch 43/100\n",
            "6/6 [==============================] - 0s 8ms/step - loss: 0.5316 - accuracy: 0.6667\n",
            "Epoch 44/100\n",
            "6/6 [==============================] - 0s 4ms/step - loss: 0.5309 - accuracy: 0.6667\n",
            "Epoch 45/100\n",
            "6/6 [==============================] - 0s 5ms/step - loss: 0.5296 - accuracy: 0.6667\n",
            "Epoch 46/100\n",
            "6/6 [==============================] - 0s 4ms/step - loss: 0.5298 - accuracy: 0.6667\n",
            "Epoch 47/100\n",
            "6/6 [==============================] - 0s 9ms/step - loss: 0.5281 - accuracy: 0.6667\n",
            "Epoch 48/100\n",
            "6/6 [==============================] - 0s 5ms/step - loss: 0.5268 - accuracy: 0.6667\n",
            "Epoch 49/100\n",
            "6/6 [==============================] - 0s 6ms/step - loss: 0.5254 - accuracy: 0.6667\n",
            "Epoch 50/100\n",
            "6/6 [==============================] - 0s 6ms/step - loss: 0.5251 - accuracy: 0.6667\n",
            "Epoch 51/100\n",
            "6/6 [==============================] - 0s 6ms/step - loss: 0.5240 - accuracy: 0.6667\n",
            "Epoch 52/100\n",
            "6/6 [==============================] - 0s 5ms/step - loss: 0.5227 - accuracy: 0.6667\n",
            "Epoch 53/100\n",
            "6/6 [==============================] - 0s 5ms/step - loss: 0.5220 - accuracy: 0.6667\n",
            "Epoch 54/100\n",
            "6/6 [==============================] - 0s 7ms/step - loss: 0.5206 - accuracy: 0.6667\n",
            "Epoch 55/100\n",
            "6/6 [==============================] - 0s 8ms/step - loss: 0.5197 - accuracy: 0.6667\n",
            "Epoch 56/100\n",
            "6/6 [==============================] - 0s 9ms/step - loss: 0.5191 - accuracy: 0.6667\n",
            "Epoch 57/100\n",
            "6/6 [==============================] - 0s 10ms/step - loss: 0.5178 - accuracy: 0.6667\n",
            "Epoch 58/100\n",
            "6/6 [==============================] - 0s 15ms/step - loss: 0.5174 - accuracy: 0.6667\n",
            "Epoch 59/100\n",
            "6/6 [==============================] - 0s 17ms/step - loss: 0.5160 - accuracy: 0.6667\n",
            "Epoch 60/100\n",
            "6/6 [==============================] - 0s 31ms/step - loss: 0.5151 - accuracy: 0.6667\n",
            "Epoch 61/100\n",
            "6/6 [==============================] - 0s 13ms/step - loss: 0.5146 - accuracy: 0.6667\n",
            "Epoch 62/100\n",
            "6/6 [==============================] - 0s 7ms/step - loss: 0.5138 - accuracy: 0.6667\n",
            "Epoch 63/100\n",
            "6/6 [==============================] - 0s 8ms/step - loss: 0.5128 - accuracy: 0.6667\n",
            "Epoch 64/100\n",
            "6/6 [==============================] - 0s 9ms/step - loss: 0.5117 - accuracy: 0.6667\n",
            "Epoch 65/100\n",
            "6/6 [==============================] - 0s 9ms/step - loss: 0.5112 - accuracy: 0.6667\n",
            "Epoch 66/100\n",
            "6/6 [==============================] - 0s 9ms/step - loss: 0.5105 - accuracy: 0.6667\n",
            "Epoch 67/100\n",
            "6/6 [==============================] - 0s 10ms/step - loss: 0.5090 - accuracy: 0.6667\n",
            "Epoch 68/100\n",
            "6/6 [==============================] - 0s 13ms/step - loss: 0.5081 - accuracy: 0.6667\n",
            "Epoch 69/100\n",
            "6/6 [==============================] - 0s 10ms/step - loss: 0.5075 - accuracy: 0.6667\n",
            "Epoch 70/100\n",
            "6/6 [==============================] - 0s 18ms/step - loss: 0.5064 - accuracy: 0.6667\n",
            "Epoch 71/100\n",
            "6/6 [==============================] - 0s 10ms/step - loss: 0.5059 - accuracy: 0.6667\n",
            "Epoch 72/100\n",
            "6/6 [==============================] - 0s 10ms/step - loss: 0.5047 - accuracy: 0.6667\n",
            "Epoch 73/100\n",
            "6/6 [==============================] - 0s 9ms/step - loss: 0.5038 - accuracy: 0.6667\n",
            "Epoch 74/100\n",
            "6/6 [==============================] - 0s 4ms/step - loss: 0.5033 - accuracy: 0.6667\n",
            "Epoch 75/100\n",
            "6/6 [==============================] - 0s 11ms/step - loss: 0.5025 - accuracy: 0.6667\n",
            "Epoch 76/100\n",
            "6/6 [==============================] - 0s 18ms/step - loss: 0.5019 - accuracy: 0.6667\n",
            "Epoch 77/100\n",
            "6/6 [==============================] - 0s 15ms/step - loss: 0.4999 - accuracy: 0.6667\n",
            "Epoch 78/100\n",
            "6/6 [==============================] - 0s 16ms/step - loss: 0.4997 - accuracy: 0.6667\n",
            "Epoch 79/100\n",
            "6/6 [==============================] - 0s 16ms/step - loss: 0.4984 - accuracy: 0.6667\n",
            "Epoch 80/100\n",
            "6/6 [==============================] - 0s 16ms/step - loss: 0.4978 - accuracy: 0.6667\n",
            "Epoch 81/100\n",
            "6/6 [==============================] - 0s 21ms/step - loss: 0.4962 - accuracy: 0.6667\n",
            "Epoch 82/100\n",
            "6/6 [==============================] - 0s 22ms/step - loss: 0.4958 - accuracy: 0.6667\n",
            "Epoch 83/100\n",
            "6/6 [==============================] - 0s 19ms/step - loss: 0.4945 - accuracy: 0.6667\n",
            "Epoch 84/100\n",
            "6/6 [==============================] - 0s 10ms/step - loss: 0.4935 - accuracy: 0.6667\n",
            "Epoch 85/100\n",
            "6/6 [==============================] - 0s 7ms/step - loss: 0.4927 - accuracy: 0.6667\n",
            "Epoch 86/100\n",
            "6/6 [==============================] - 0s 17ms/step - loss: 0.4925 - accuracy: 0.6667\n",
            "Epoch 87/100\n",
            "6/6 [==============================] - 0s 7ms/step - loss: 0.4918 - accuracy: 0.6667\n",
            "Epoch 88/100\n",
            "6/6 [==============================] - 0s 8ms/step - loss: 0.4909 - accuracy: 0.6667\n",
            "Epoch 89/100\n",
            "6/6 [==============================] - 0s 8ms/step - loss: 0.4890 - accuracy: 0.6667\n",
            "Epoch 90/100\n",
            "6/6 [==============================] - 0s 8ms/step - loss: 0.4882 - accuracy: 0.6667\n",
            "Epoch 91/100\n",
            "6/6 [==============================] - 0s 7ms/step - loss: 0.4873 - accuracy: 0.6667\n",
            "Epoch 92/100\n",
            "6/6 [==============================] - 0s 9ms/step - loss: 0.4866 - accuracy: 0.6667\n",
            "Epoch 93/100\n",
            "6/6 [==============================] - 0s 10ms/step - loss: 0.4856 - accuracy: 0.6667\n",
            "Epoch 94/100\n",
            "6/6 [==============================] - 0s 7ms/step - loss: 0.4849 - accuracy: 0.6667\n",
            "Epoch 95/100\n",
            "6/6 [==============================] - 0s 8ms/step - loss: 0.4838 - accuracy: 0.6667\n",
            "Epoch 96/100\n",
            "6/6 [==============================] - 0s 9ms/step - loss: 0.4828 - accuracy: 0.6667\n",
            "Epoch 97/100\n",
            "6/6 [==============================] - 0s 6ms/step - loss: 0.4821 - accuracy: 0.6667\n",
            "Epoch 98/100\n",
            "6/6 [==============================] - 0s 5ms/step - loss: 0.4817 - accuracy: 0.6667\n",
            "Epoch 99/100\n",
            "6/6 [==============================] - 0s 5ms/step - loss: 0.4806 - accuracy: 0.6667\n",
            "Epoch 100/100\n",
            "6/6 [==============================] - 0s 5ms/step - loss: 0.4791 - accuracy: 0.6667\n"
          ]
        },
        {
          "output_type": "execute_result",
          "data": {
            "text/plain": [
              "<keras.src.callbacks.History at 0x7f6158c4c370>"
            ]
          },
          "metadata": {},
          "execution_count": 42
        }
      ]
    },
    {
      "cell_type": "markdown",
      "source": [
        "4. Making Predictions with the Model:"
      ],
      "metadata": {
        "id": "WNHLy0o1uN5r"
      }
    },
    {
      "cell_type": "code",
      "source": [
        "test_data = np.array([[2], [7], [5]])\n",
        "predictions = model.predict(test_data)\n",
        "\n",
        "# Convert predictions to binary values\n",
        "binary_predictions = [1 if pred >= 0.5 else 0 for pred in predictions]\n",
        "\n",
        "print(binary_predictions)\n"
      ],
      "metadata": {
        "colab": {
          "base_uri": "https://localhost:8080/"
        },
        "id": "8WoBTItyuQh4",
        "outputId": "5bbfce2e-0d4c-4b21-f1b4-243714c4c075"
      },
      "execution_count": 43,
      "outputs": [
        {
          "output_type": "stream",
          "name": "stdout",
          "text": [
            "1/1 [==============================] - 1s 575ms/step\n",
            "[0, 1, 1]\n"
          ]
        }
      ]
    },
    {
      "cell_type": "markdown",
      "source": [
        "This simple neural network will help you understand the basics of how to set up, train, and use artificial neural networks for basic tasks."
      ],
      "metadata": {
        "id": "ZKec8EEyucJm"
      }
    },
    {
      "cell_type": "markdown",
      "source": [
        "Output Explanation:\n",
        "\n",
        "1/1 [==============================] - 1s 575ms/step\n",
        "\n",
        "This line gives information about the training progress:\n",
        "\n",
        "1/1 indicates that one batch of data has been processed. Since the batch size was set to 1 and we had 6 training samples, the network processed each sample one at a time, updating the weights after each sample.\n",
        "\n",
        "============================== is a progress bar representation of the training process.\n",
        "\n",
        "1s 575ms/step suggests that it took approximately 575 milliseconds to process each sample.\n",
        "\n",
        "[0, 1, 1]\n",
        "\n",
        "This line provides the predictions for the test data:\n",
        "\n",
        "For the input 2, the network predicted 0, suggesting that the number is not greater than 5.\n",
        "\n",
        "For the input 7, the network predicted 1, indicating that the number is greater than 5.\n",
        "\n",
        "For the input 5, the network also predicted 1, which seems like a mistake, as 5 is not greater than 5. Remember, neural networks give approximate solutions, especially for such small and simplistic examples, so occasional misclassifications are expected.\n",
        "\n",
        "Overall, the simple neural network managed to mostly correctly classify the test numbers based on whether they're greater than 5 or not."
      ],
      "metadata": {
        "id": "76M3pmcnuc7J"
      }
    },
    {
      "cell_type": "markdown",
      "source": [
        "# 9- Tools and Libraries\n",
        "\n"
      ],
      "metadata": {
        "id": "EEDTRVsLu7Hb"
      }
    },
    {
      "cell_type": "markdown",
      "source": [
        "Introduction to Python for ML\n",
        "\n",
        "Libraries: scikit-learn, TensorFlow, Keras\n",
        "\n",
        "\n",
        "Example: Building a Simple Model using scikit-learn"
      ],
      "metadata": {
        "id": "DCYqrZPPvCA3"
      }
    },
    {
      "cell_type": "markdown",
      "source": [
        "**Introduction to Python for ML**\n",
        "Python has become the de facto language for machine learning (ML) and data science, largely due to its simplicity and readability, coupled with the comprehensive ecosystem of data-centric libraries."
      ],
      "metadata": {
        "id": "FYZIScKhvJW0"
      }
    },
    {
      "cell_type": "markdown",
      "source": [
        "# **Libraries: scikit-learn, TensorFlow, Keras**\n",
        "\n",
        "**scikit-learn:** An open-source machine learning library that provides simple and efficient tools for data analysis and modeling. It's great for traditional machine learning algorithms.\n",
        "\n",
        "**TensorFlow:** An open-source software library developed by the Google Brain team. It's primarily used for deep learning, but can handle other machine learning tasks as well. It offers a comprehensive ecosystem of tools, libraries, and community resources.\n",
        "\n",
        "**Keras**: Initially developed as an independent neural network library, Keras now runs on top of TensorFlow (among other backends). It provides a more intuitive and streamlined API for building and training deep learning models.\n",
        "\n",
        "**PyTorch:** Developed by Facebook's AI Research lab, PyTorch is an open-source machine learning library that's particularly popular for deep learning research. It's known for its dynamic computational graph, which makes it particularly useful for developing more complex models and for academic purposes."
      ],
      "metadata": {
        "id": "D7UiA19RvNa5"
      }
    },
    {
      "cell_type": "markdown",
      "source": [
        "Example: Building a Simple Model using scikit-learn\n",
        "Let's build a simple classifier using scikit-learn:\n",
        "\n",
        "Importing Necessary Libraries:"
      ],
      "metadata": {
        "id": "E4EH2qfZvTGw"
      }
    },
    {
      "cell_type": "code",
      "source": [
        "from sklearn.datasets import load_iris\n",
        "from sklearn.model_selection import train_test_split\n",
        "from sklearn.ensemble import RandomForestClassifier\n"
      ],
      "metadata": {
        "id": "dtgEPpbYvVmJ"
      },
      "execution_count": 44,
      "outputs": []
    },
    {
      "cell_type": "markdown",
      "source": [
        "Loading the Dataset:\n",
        "The iris dataset is a classic dataset for classification. It contains 3 classes of 50 instances each, where each class refers to a type of iris plant."
      ],
      "metadata": {
        "id": "9E_Zo1mEvYXt"
      }
    },
    {
      "cell_type": "code",
      "source": [
        "iris = load_iris()\n",
        "X, y = iris.data, iris.target\n"
      ],
      "metadata": {
        "id": "K7-ctUQdva4x"
      },
      "execution_count": 45,
      "outputs": []
    },
    {
      "cell_type": "markdown",
      "source": [
        "Splitting the Dataset:\n",
        "We'll split our dataset into a training set and a test set."
      ],
      "metadata": {
        "id": "jt1d1lrqveCF"
      }
    },
    {
      "cell_type": "code",
      "source": [
        "X_train, X_test, y_train, y_test = train_test_split(X, y, test_size=0.2, random_state=42)\n"
      ],
      "metadata": {
        "id": "UFgR2CLzvg2Y"
      },
      "execution_count": 46,
      "outputs": []
    },
    {
      "cell_type": "markdown",
      "source": [
        "Creating and Training the Model:"
      ],
      "metadata": {
        "id": "3PuNmAwWvkI1"
      }
    },
    {
      "cell_type": "code",
      "source": [
        "clf = RandomForestClassifier(n_estimators=100)\n",
        "clf.fit(X_train, y_train)\n"
      ],
      "metadata": {
        "colab": {
          "base_uri": "https://localhost:8080/",
          "height": 75
        },
        "id": "Q-Wsm2VXvl-S",
        "outputId": "de45cbdc-8054-4058-aee6-77e286705d19"
      },
      "execution_count": 47,
      "outputs": [
        {
          "output_type": "execute_result",
          "data": {
            "text/plain": [
              "RandomForestClassifier()"
            ],
            "text/html": [
              "<style>#sk-container-id-1 {color: black;background-color: white;}#sk-container-id-1 pre{padding: 0;}#sk-container-id-1 div.sk-toggleable {background-color: white;}#sk-container-id-1 label.sk-toggleable__label {cursor: pointer;display: block;width: 100%;margin-bottom: 0;padding: 0.3em;box-sizing: border-box;text-align: center;}#sk-container-id-1 label.sk-toggleable__label-arrow:before {content: \"▸\";float: left;margin-right: 0.25em;color: #696969;}#sk-container-id-1 label.sk-toggleable__label-arrow:hover:before {color: black;}#sk-container-id-1 div.sk-estimator:hover label.sk-toggleable__label-arrow:before {color: black;}#sk-container-id-1 div.sk-toggleable__content {max-height: 0;max-width: 0;overflow: hidden;text-align: left;background-color: #f0f8ff;}#sk-container-id-1 div.sk-toggleable__content pre {margin: 0.2em;color: black;border-radius: 0.25em;background-color: #f0f8ff;}#sk-container-id-1 input.sk-toggleable__control:checked~div.sk-toggleable__content {max-height: 200px;max-width: 100%;overflow: auto;}#sk-container-id-1 input.sk-toggleable__control:checked~label.sk-toggleable__label-arrow:before {content: \"▾\";}#sk-container-id-1 div.sk-estimator input.sk-toggleable__control:checked~label.sk-toggleable__label {background-color: #d4ebff;}#sk-container-id-1 div.sk-label input.sk-toggleable__control:checked~label.sk-toggleable__label {background-color: #d4ebff;}#sk-container-id-1 input.sk-hidden--visually {border: 0;clip: rect(1px 1px 1px 1px);clip: rect(1px, 1px, 1px, 1px);height: 1px;margin: -1px;overflow: hidden;padding: 0;position: absolute;width: 1px;}#sk-container-id-1 div.sk-estimator {font-family: monospace;background-color: #f0f8ff;border: 1px dotted black;border-radius: 0.25em;box-sizing: border-box;margin-bottom: 0.5em;}#sk-container-id-1 div.sk-estimator:hover {background-color: #d4ebff;}#sk-container-id-1 div.sk-parallel-item::after {content: \"\";width: 100%;border-bottom: 1px solid gray;flex-grow: 1;}#sk-container-id-1 div.sk-label:hover label.sk-toggleable__label {background-color: #d4ebff;}#sk-container-id-1 div.sk-serial::before {content: \"\";position: absolute;border-left: 1px solid gray;box-sizing: border-box;top: 0;bottom: 0;left: 50%;z-index: 0;}#sk-container-id-1 div.sk-serial {display: flex;flex-direction: column;align-items: center;background-color: white;padding-right: 0.2em;padding-left: 0.2em;position: relative;}#sk-container-id-1 div.sk-item {position: relative;z-index: 1;}#sk-container-id-1 div.sk-parallel {display: flex;align-items: stretch;justify-content: center;background-color: white;position: relative;}#sk-container-id-1 div.sk-item::before, #sk-container-id-1 div.sk-parallel-item::before {content: \"\";position: absolute;border-left: 1px solid gray;box-sizing: border-box;top: 0;bottom: 0;left: 50%;z-index: -1;}#sk-container-id-1 div.sk-parallel-item {display: flex;flex-direction: column;z-index: 1;position: relative;background-color: white;}#sk-container-id-1 div.sk-parallel-item:first-child::after {align-self: flex-end;width: 50%;}#sk-container-id-1 div.sk-parallel-item:last-child::after {align-self: flex-start;width: 50%;}#sk-container-id-1 div.sk-parallel-item:only-child::after {width: 0;}#sk-container-id-1 div.sk-dashed-wrapped {border: 1px dashed gray;margin: 0 0.4em 0.5em 0.4em;box-sizing: border-box;padding-bottom: 0.4em;background-color: white;}#sk-container-id-1 div.sk-label label {font-family: monospace;font-weight: bold;display: inline-block;line-height: 1.2em;}#sk-container-id-1 div.sk-label-container {text-align: center;}#sk-container-id-1 div.sk-container {/* jupyter's `normalize.less` sets `[hidden] { display: none; }` but bootstrap.min.css set `[hidden] { display: none !important; }` so we also need the `!important` here to be able to override the default hidden behavior on the sphinx rendered scikit-learn.org. See: https://github.com/scikit-learn/scikit-learn/issues/21755 */display: inline-block !important;position: relative;}#sk-container-id-1 div.sk-text-repr-fallback {display: none;}</style><div id=\"sk-container-id-1\" class=\"sk-top-container\"><div class=\"sk-text-repr-fallback\"><pre>RandomForestClassifier()</pre><b>In a Jupyter environment, please rerun this cell to show the HTML representation or trust the notebook. <br />On GitHub, the HTML representation is unable to render, please try loading this page with nbviewer.org.</b></div><div class=\"sk-container\" hidden><div class=\"sk-item\"><div class=\"sk-estimator sk-toggleable\"><input class=\"sk-toggleable__control sk-hidden--visually\" id=\"sk-estimator-id-1\" type=\"checkbox\" checked><label for=\"sk-estimator-id-1\" class=\"sk-toggleable__label sk-toggleable__label-arrow\">RandomForestClassifier</label><div class=\"sk-toggleable__content\"><pre>RandomForestClassifier()</pre></div></div></div></div></div>"
            ]
          },
          "metadata": {},
          "execution_count": 47
        }
      ]
    },
    {
      "cell_type": "markdown",
      "source": [
        "Evaluating the Model:"
      ],
      "metadata": {
        "id": "UVIY_gLXvo-c"
      }
    },
    {
      "cell_type": "code",
      "source": [
        "accuracy = clf.score(X_test, y_test)\n",
        "print(f\"Accuracy: {accuracy*100:.2f}%\")\n"
      ],
      "metadata": {
        "colab": {
          "base_uri": "https://localhost:8080/"
        },
        "id": "H_3UkDUDvqlm",
        "outputId": "d8838fe5-775a-42a0-debf-e93565d2494d"
      },
      "execution_count": 48,
      "outputs": [
        {
          "output_type": "stream",
          "name": "stdout",
          "text": [
            "Accuracy: 100.00%\n"
          ]
        }
      ]
    },
    {
      "cell_type": "markdown",
      "source": [
        "This simple example demonstrates how to use scikit-learn to quickly train and evaluate a machine learning model."
      ],
      "metadata": {
        "id": "M7H3pu1QvtsB"
      }
    },
    {
      "cell_type": "markdown",
      "source": [
        "# Let's create a simple linear regression example using PyTorch:\n",
        "# ☕\n",
        "\n",
        "PyTorch Basic Linear Regression Example\n",
        "\n",
        "Import Necessary Libraries:"
      ],
      "metadata": {
        "id": "bNUW1AwmwOCr"
      }
    },
    {
      "cell_type": "code",
      "source": [
        "import torch\n",
        "import torch.nn as nn\n",
        "import torch.optim as optim\n"
      ],
      "metadata": {
        "id": "V5dyYwM7wXfg"
      },
      "execution_count": 49,
      "outputs": []
    },
    {
      "cell_type": "markdown",
      "source": [
        "Generate Some Sample Data:\n",
        "Let's create some linear data with a little noise. The equation for our data will be\n",
        "\n",
        "=\n",
        "2\n",
        "+\n",
        "1\n",
        "y=2x+1."
      ],
      "metadata": {
        "id": "nXYfyzzdwaiW"
      }
    },
    {
      "cell_type": "code",
      "source": [
        "# Generate random data\n",
        "x = torch.linspace(0, 10, 100).reshape(-1, 1)\n",
        "y = 2 * x + 1 + torch.randn(100, 1)\n"
      ],
      "metadata": {
        "id": "V1SmFhiMwi2x"
      },
      "execution_count": 50,
      "outputs": []
    },
    {
      "cell_type": "markdown",
      "source": [
        "Define the Model:\n",
        "Here, we define a simple linear regression model."
      ],
      "metadata": {
        "id": "GMMSuAXrwlo5"
      }
    },
    {
      "cell_type": "code",
      "source": [
        "class LinearRegression(nn.Module):\n",
        "    def __init__(self, input_size, output_size):\n",
        "        super(LinearRegression, self).__init__()\n",
        "        self.linear = nn.Linear(input_size, output_size)\n",
        "\n",
        "    def forward(self, x):\n",
        "        return self.linear(x)\n"
      ],
      "metadata": {
        "id": "EhuXFTcFwndb"
      },
      "execution_count": 51,
      "outputs": []
    },
    {
      "cell_type": "markdown",
      "source": [
        "Model, Loss and Optimizer:"
      ],
      "metadata": {
        "id": "cYG8tIPpwqeO"
      }
    },
    {
      "cell_type": "code",
      "source": [
        "model = LinearRegression(1, 1)\n",
        "criterion = nn.MSELoss()\n",
        "optimizer = optim.SGD(model.parameters(), lr=0.01)\n"
      ],
      "metadata": {
        "id": "8iyEbfALwsmy"
      },
      "execution_count": 52,
      "outputs": []
    },
    {
      "cell_type": "markdown",
      "source": [
        "Training the Model:"
      ],
      "metadata": {
        "id": "_wXN42GvwvkU"
      }
    },
    {
      "cell_type": "code",
      "source": [
        "# Training loop\n",
        "num_epochs = 1000\n",
        "for epoch in range(num_epochs):\n",
        "    # Forward pass: Compute predicted y by passing x to the model\n",
        "    y_pred = model(x)\n",
        "\n",
        "    # Compute loss\n",
        "    loss = criterion(y_pred, y)\n",
        "\n",
        "    # Zero the gradients before running the backward pass.\n",
        "    optimizer.zero_grad()\n",
        "\n",
        "    # Backward pass: Compute gradient of the loss with respect to model parameters\n",
        "    loss.backward()\n",
        "\n",
        "    # Update the weights using gradient descent\n",
        "    optimizer.step()\n",
        "\n",
        "    if (epoch+1) % 100 == 0:\n",
        "        print(f'Epoch [{epoch+1}/{num_epochs}], Loss: {loss.item():.4f}')\n"
      ],
      "metadata": {
        "colab": {
          "base_uri": "https://localhost:8080/"
        },
        "id": "S-o8jwSwwxor",
        "outputId": "e91f0e92-c141-49e5-b47e-45c439bab8ff"
      },
      "execution_count": 53,
      "outputs": [
        {
          "output_type": "stream",
          "name": "stdout",
          "text": [
            "Epoch [100/1000], Loss: 0.9639\n",
            "Epoch [200/1000], Loss: 0.9394\n",
            "Epoch [300/1000], Loss: 0.9303\n",
            "Epoch [400/1000], Loss: 0.9270\n",
            "Epoch [500/1000], Loss: 0.9257\n",
            "Epoch [600/1000], Loss: 0.9253\n",
            "Epoch [700/1000], Loss: 0.9251\n",
            "Epoch [800/1000], Loss: 0.9250\n",
            "Epoch [900/1000], Loss: 0.9250\n",
            "Epoch [1000/1000], Loss: 0.9250\n"
          ]
        }
      ]
    },
    {
      "cell_type": "markdown",
      "source": [
        "Print the Model's Parameters:\n",
        "After training, the model's parameters should be close to\n"
      ],
      "metadata": {
        "id": "oIGWu3Odw1lm"
      }
    },
    {
      "cell_type": "code",
      "source": [
        "print(f'Weight: {model.linear.weight.item()}')\n",
        "print(f'Bias: {model.linear.bias.item()}')\n"
      ],
      "metadata": {
        "colab": {
          "base_uri": "https://localhost:8080/"
        },
        "id": "M6RxJLrBw5_k",
        "outputId": "58d6afca-9758-4a5b-ad22-5edb0fc32975"
      },
      "execution_count": 54,
      "outputs": [
        {
          "output_type": "stream",
          "name": "stdout",
          "text": [
            "Weight: 1.9807170629501343\n",
            "Bias: 1.0244823694229126\n"
          ]
        }
      ]
    },
    {
      "cell_type": "markdown",
      "source": [
        "When you run this code, you'll see the model learning to fit the data, and by the end of the training process, the weight and bias of the model should be close to the actual values used to generate the data (2 for weight and 1 for bias, with some noise)."
      ],
      "metadata": {
        "id": "dPtWjIjbxDvx"
      }
    },
    {
      "cell_type": "markdown",
      "source": [
        "Great! The results are pretty close to the equation we used to generate the data, which was\n",
        "\n",
        "\n",
        "y=2x+1.\n",
        "\n",
        "Explanation of Output:\n",
        "\n",
        "Weight: The weight of approximately 1.9807 indicates the slope of the line the model has learned. Considering that our data was generated using a slope of 2, this is an excellent result.\n",
        "\n",
        "Bias: The bias of approximately 1.0245 represents the y-intercept of the line. Since our data was generated with a y-intercept of 1, this again shows that the model did a good job of learning from the data.\n",
        "\n",
        "The slight discrepancies from the exact values are due to the random noise we added to our data, making it imperfect. It's quite impressive that the model was able to come so close to the true values despite the noise. This is a testament to the power of neural networks and the backpropagation algorithm at work with PyTorch!"
      ],
      "metadata": {
        "id": "tIlMfWolxLLE"
      }
    },
    {
      "cell_type": "markdown",
      "source": [
        "# 10. Conclusion and Future Trends\n",
        "\n",
        "Conclusion:\n",
        "\n",
        "Machine learning has transformed the landscape of various industries by providing tools to automate decision-making processes, gain insights from vast amounts of data, and develop intelligent applications. From simple linear regression to advanced deep neural networks, the rapid advancement in the field has enabled solutions to complex problems that were once thought insurmountable."
      ],
      "metadata": {
        "id": "R-yS8ZNpxpif"
      }
    },
    {
      "cell_type": "markdown",
      "source": [
        "# **Future Trends:**"
      ],
      "metadata": {
        "id": "huKm6t_ixuIs"
      }
    },
    {
      "cell_type": "markdown",
      "source": [
        "**Federated Learning:** This is an approach where the model is trained across multiple decentralized devices or servers holding local data samples, without exchanging the data itself. It's particularly promising for privacy-preserving AI.\n",
        "\n",
        "\n",
        "**Transfer Learning and Pre-trained Models:** Instead of training deep neural networks from scratch, using pre-trained models and fine-tuning them for specific tasks will become even more prevalent.\n",
        "\n",
        "\n",
        "**Neural Architecture Search (NAS):** An automated method for finding the best network architecture, which could potentially eliminate the need for manual design of neural networks.\n",
        "\n",
        "\n",
        "**Quantum Machine Learning:** With the rise of quantum computers, quantum algorithms could revolutionize the machine learning field by offering faster computations.\n",
        "\n",
        "\n",
        "**Edge AI:** Bringing AI computations to edge devices (like smartphones and IoT devices) instead of centralized servers to improve speed and privacy.\n",
        "\n",
        "\n",
        "**Explainable AI (XAI):** As AI models become more complex, the need for understanding their decision-making processes increases. XAI aims to make the outputs of AI models more understandable to humans.\n",
        "\n",
        "\n",
        "**Self-supervised Learning:** A training paradigm where the model generates its own supervisory signal, reducing the need for labeled data.\n",
        "\n",
        "\n",
        "**Augmented Reality (AR) and Virtual Reality (VR) in ML:** Leveraging AR and VR for more immersive data visualization and interactive machine learning.\n",
        "\n",
        "\n",
        "**Multimodal and Cross-modal Learning:** Training models on data from multiple sources/modalities (e.g., sound, text, image) to improve prediction and understanding.\n",
        "\n",
        "\n",
        "**AI Ethics and Fairness:** Ensuring that AI models are unbiased, transparent, and ethical will be a significant focus, given the increasing reliance on AI in decision-making processes."
      ],
      "metadata": {
        "id": "370tSsayxzKD"
      }
    },
    {
      "cell_type": "markdown",
      "source": [
        "In the end, as the field of machine learning continues to evolve, staying updated with the latest research, tools, and techniques will be crucial. The integration of AI and ML into various sectors will only grow, opening up numerous opportunities and challenges. However, with the combined efforts of researchers, developers, and policymakers, the future of machine learning promises to be both exciting and transformative."
      ],
      "metadata": {
        "id": "8e1PKd3JyL90"
      }
    },
    {
      "cell_type": "markdown",
      "source": [
        "# **A Heartfelt Thank You**\n",
        "\n",
        "Thank you for embarking on this enlightening journey with me through the world of Machine Learning. Together, we've dived deep into its core concepts, explored its intricacies, and unraveled its mysteries using simple and relatable examples. Your curiosity and enthusiasm have been the driving force behind this tutorial. I hope these insights have not only enhanced your understanding but also ignited a passion for further exploration in the vast universe of Machine Learning. Here's to many more discoveries and learning adventures ahead!\n",
        "\n",
        "Warm regards,\n",
        "\n",
        "[Ayhan Bozkurt](https://www.linkedin.com/in/ayhanbozkurt/)\n"
      ],
      "metadata": {
        "id": "eIXMk1GFyNM-"
      }
    }
  ]
}